{
 "cells": [
  {
   "cell_type": "markdown",
   "metadata": {},
   "source": [
    "## Needy Paws Adoption Exploratory Data Analysis"
   ]
  },
  {
   "cell_type": "code",
   "execution_count": 1,
   "metadata": {},
   "outputs": [
    {
     "data": {
      "text/html": [
       "<div>\n",
       "<style scoped>\n",
       "    .dataframe tbody tr th:only-of-type {\n",
       "        vertical-align: middle;\n",
       "    }\n",
       "\n",
       "    .dataframe tbody tr th {\n",
       "        vertical-align: top;\n",
       "    }\n",
       "\n",
       "    .dataframe thead th {\n",
       "        text-align: right;\n",
       "    }\n",
       "</style>\n",
       "<table border=\"1\" class=\"dataframe\">\n",
       "  <thead>\n",
       "    <tr style=\"text-align: right;\">\n",
       "      <th></th>\n",
       "      <th>Days in Rescue</th>\n",
       "      <th>Adoption Fee</th>\n",
       "      <th>Sex</th>\n",
       "      <th>Color</th>\n",
       "      <th>Size</th>\n",
       "      <th>Altered Prior to Intake (Y/N/U)</th>\n",
       "    </tr>\n",
       "    <tr>\n",
       "      <th>Dog ID</th>\n",
       "      <th></th>\n",
       "      <th></th>\n",
       "      <th></th>\n",
       "      <th></th>\n",
       "      <th></th>\n",
       "      <th></th>\n",
       "    </tr>\n",
       "  </thead>\n",
       "  <tbody>\n",
       "    <tr>\n",
       "      <td>A0001</td>\n",
       "      <td>30</td>\n",
       "      <td>$250</td>\n",
       "      <td>M</td>\n",
       "      <td>Yellow</td>\n",
       "      <td>Medium</td>\n",
       "      <td>Y</td>\n",
       "    </tr>\n",
       "    <tr>\n",
       "      <td>A0002</td>\n",
       "      <td>47</td>\n",
       "      <td>$250</td>\n",
       "      <td>F</td>\n",
       "      <td>Black &amp; Tan</td>\n",
       "      <td>Medium</td>\n",
       "      <td>N</td>\n",
       "    </tr>\n",
       "    <tr>\n",
       "      <td>A0003</td>\n",
       "      <td>31</td>\n",
       "      <td>$175</td>\n",
       "      <td>F</td>\n",
       "      <td>Brindle</td>\n",
       "      <td>Medium</td>\n",
       "      <td>Y</td>\n",
       "    </tr>\n",
       "    <tr>\n",
       "      <td>A0004</td>\n",
       "      <td>90</td>\n",
       "      <td>$250</td>\n",
       "      <td>F</td>\n",
       "      <td>Red</td>\n",
       "      <td>Large</td>\n",
       "      <td>N</td>\n",
       "    </tr>\n",
       "    <tr>\n",
       "      <td>A0005</td>\n",
       "      <td>11</td>\n",
       "      <td>$195</td>\n",
       "      <td>F</td>\n",
       "      <td>Tan</td>\n",
       "      <td>Small</td>\n",
       "      <td>N</td>\n",
       "    </tr>\n",
       "    <tr>\n",
       "      <td>A0006</td>\n",
       "      <td>83</td>\n",
       "      <td>$175</td>\n",
       "      <td>F</td>\n",
       "      <td>Tan</td>\n",
       "      <td>Small</td>\n",
       "      <td>Y</td>\n",
       "    </tr>\n",
       "    <tr>\n",
       "      <td>A0009</td>\n",
       "      <td>21</td>\n",
       "      <td>$250</td>\n",
       "      <td>M</td>\n",
       "      <td>Tan &amp; Black</td>\n",
       "      <td>Large</td>\n",
       "      <td>N</td>\n",
       "    </tr>\n",
       "    <tr>\n",
       "      <td>A0010</td>\n",
       "      <td>255</td>\n",
       "      <td>$195</td>\n",
       "      <td>F</td>\n",
       "      <td>Red</td>\n",
       "      <td>Medium</td>\n",
       "      <td>N</td>\n",
       "    </tr>\n",
       "    <tr>\n",
       "      <td>A0011</td>\n",
       "      <td>64</td>\n",
       "      <td>$250</td>\n",
       "      <td>F</td>\n",
       "      <td>White with Tan spots</td>\n",
       "      <td>Small</td>\n",
       "      <td>N</td>\n",
       "    </tr>\n",
       "    <tr>\n",
       "      <td>A0012</td>\n",
       "      <td>76</td>\n",
       "      <td>$250</td>\n",
       "      <td>F</td>\n",
       "      <td>Black w white</td>\n",
       "      <td>Medium</td>\n",
       "      <td>N</td>\n",
       "    </tr>\n",
       "  </tbody>\n",
       "</table>\n",
       "</div>"
      ],
      "text/plain": [
       "        Days in Rescue Adoption Fee Sex                 Color    Size  \\\n",
       "Dog ID                                                                  \n",
       "A0001               30         $250   M                Yellow  Medium   \n",
       "A0002               47         $250   F           Black & Tan  Medium   \n",
       "A0003               31         $175   F               Brindle  Medium   \n",
       "A0004               90         $250   F                 Red     Large   \n",
       "A0005               11         $195   F                   Tan   Small   \n",
       "A0006               83         $175   F                   Tan   Small   \n",
       "A0009               21         $250   M           Tan & Black   Large   \n",
       "A0010              255         $195   F                   Red  Medium   \n",
       "A0011               64         $250   F  White with Tan spots   Small   \n",
       "A0012               76         $250   F         Black w white  Medium   \n",
       "\n",
       "       Altered Prior to Intake (Y/N/U)  \n",
       "Dog ID                                  \n",
       "A0001                                Y  \n",
       "A0002                                N  \n",
       "A0003                                Y  \n",
       "A0004                                N  \n",
       "A0005                                N  \n",
       "A0006                                Y  \n",
       "A0009                                N  \n",
       "A0010                                N  \n",
       "A0011                                N  \n",
       "A0012                                N  "
      ]
     },
     "execution_count": 1,
     "metadata": {},
     "output_type": "execute_result"
    }
   ],
   "source": [
    "import pandas as pd  \n",
    "import numpy as np  \n",
    "import matplotlib.pyplot as plt  \n",
    "import seaborn as sns\n",
    "%matplotlib inline\n",
    "\n",
    "dogs = pd.read_csv('/Users/admin/Desktop/CoderGirl/gringotts-mf/NeedyPawsSimple.csv', sep=\",\")\n",
    "dogs.set_index('Dog ID').head(10)"
   ]
  },
  {
   "cell_type": "code",
   "execution_count": 2,
   "metadata": {},
   "outputs": [
    {
     "data": {
      "text/plain": [
       "(3088, 7)"
      ]
     },
     "execution_count": 2,
     "metadata": {},
     "output_type": "execute_result"
    }
   ],
   "source": [
    "dogs.shape"
   ]
  },
  {
   "cell_type": "code",
   "execution_count": 3,
   "metadata": {},
   "outputs": [
    {
     "data": {
      "text/plain": [
       "Index(['Dog ID', 'Days in Rescue', 'Adoption Fee', 'Sex', 'Color', 'Size',\n",
       "       'Altered Prior to Intake (Y/N/U)'],\n",
       "      dtype='object')"
      ]
     },
     "execution_count": 3,
     "metadata": {},
     "output_type": "execute_result"
    }
   ],
   "source": [
    "dogs.columns"
   ]
  },
  {
   "cell_type": "code",
   "execution_count": 4,
   "metadata": {},
   "outputs": [
    {
     "data": {
      "text/plain": [
       "Dog ID                             object\n",
       "Days in Rescue                      int64\n",
       "Adoption Fee                       object\n",
       "Sex                                object\n",
       "Color                              object\n",
       "Size                               object\n",
       "Altered Prior to Intake (Y/N/U)    object\n",
       "dtype: object"
      ]
     },
     "execution_count": 4,
     "metadata": {},
     "output_type": "execute_result"
    }
   ],
   "source": [
    "dogs.dtypes"
   ]
  },
  {
   "cell_type": "code",
   "execution_count": 5,
   "metadata": {},
   "outputs": [
    {
     "data": {
      "text/plain": [
       "Black            344\n",
       "Black & White    328\n",
       "Tan              190\n",
       "Tricolor         175\n",
       "Brown            164\n",
       "Name: Color, dtype: int64"
      ]
     },
     "execution_count": 5,
     "metadata": {},
     "output_type": "execute_result"
    }
   ],
   "source": [
    "dogs['Color'].value_counts().head()"
   ]
  },
  {
   "cell_type": "code",
   "execution_count": 6,
   "metadata": {},
   "outputs": [
    {
     "data": {
      "text/plain": [
       "M     1541\n",
       "F     1534\n",
       "M        4\n",
       "F        4\n",
       "m        3\n",
       "f        2\n",
       "Name: Sex, dtype: int64"
      ]
     },
     "execution_count": 6,
     "metadata": {},
     "output_type": "execute_result"
    }
   ],
   "source": [
    "dogs['Sex'].value_counts()"
   ]
  },
  {
   "cell_type": "code",
   "execution_count": 7,
   "metadata": {},
   "outputs": [
    {
     "data": {
      "text/plain": [
       "N          2525\n",
       "Y           513\n",
       "U            25\n",
       "?             3\n",
       "n             2\n",
       "2/18/15       1\n",
       "Name: Altered Prior to Intake (Y/N/U), dtype: int64"
      ]
     },
     "execution_count": 7,
     "metadata": {},
     "output_type": "execute_result"
    }
   ],
   "source": [
    "dogs['Altered Prior to Intake (Y/N/U)'].value_counts()"
   ]
  },
  {
   "cell_type": "code",
   "execution_count": 8,
   "metadata": {},
   "outputs": [
    {
     "name": "stdout",
     "output_type": "stream",
     "text": [
      "         Days in Rescue\n",
      "Size                   \n",
      "Large         51.838006\n",
      "Medium        52.380848\n",
      "Medium        57.111111\n",
      "Small         37.244763\n",
      "Small         28.400000\n",
      "X Large       29.600000\n"
     ]
    }
   ],
   "source": [
    "df = dogs.groupby(['Size']).mean()\n",
    "print(df)"
   ]
  },
  {
   "cell_type": "code",
   "execution_count": 9,
   "metadata": {},
   "outputs": [
    {
     "name": "stdout",
     "output_type": "stream",
     "text": [
      "     Days in Rescue\n",
      "Sex                \n",
      "F         49.742503\n",
      "F          8.250000\n",
      "M         45.964958\n",
      "M         45.000000\n",
      "f         76.500000\n",
      "m         39.666667\n"
     ]
    }
   ],
   "source": [
    "df = dogs.groupby(['Sex']).mean()\n",
    "print(df)"
   ]
  },
  {
   "cell_type": "code",
   "execution_count": 10,
   "metadata": {},
   "outputs": [
    {
     "data": {
      "text/html": [
       "<div>\n",
       "<style scoped>\n",
       "    .dataframe tbody tr th:only-of-type {\n",
       "        vertical-align: middle;\n",
       "    }\n",
       "\n",
       "    .dataframe tbody tr th {\n",
       "        vertical-align: top;\n",
       "    }\n",
       "\n",
       "    .dataframe thead th {\n",
       "        text-align: right;\n",
       "    }\n",
       "</style>\n",
       "<table border=\"1\" class=\"dataframe\">\n",
       "  <thead>\n",
       "    <tr style=\"text-align: right;\">\n",
       "      <th></th>\n",
       "      <th>Dog ID</th>\n",
       "      <th>Days in Rescue</th>\n",
       "      <th>Adoption Fee</th>\n",
       "      <th>Sex</th>\n",
       "      <th>Color</th>\n",
       "      <th>Size</th>\n",
       "      <th>Altered Prior to Intake (Y/N/U)</th>\n",
       "    </tr>\n",
       "  </thead>\n",
       "  <tbody>\n",
       "    <tr>\n",
       "      <td>count</td>\n",
       "      <td>3088</td>\n",
       "      <td>3088.000000</td>\n",
       "      <td>3084</td>\n",
       "      <td>3088</td>\n",
       "      <td>3083</td>\n",
       "      <td>3069</td>\n",
       "      <td>3069</td>\n",
       "    </tr>\n",
       "    <tr>\n",
       "      <td>unique</td>\n",
       "      <td>3088</td>\n",
       "      <td>NaN</td>\n",
       "      <td>13</td>\n",
       "      <td>6</td>\n",
       "      <td>387</td>\n",
       "      <td>6</td>\n",
       "      <td>6</td>\n",
       "    </tr>\n",
       "    <tr>\n",
       "      <td>top</td>\n",
       "      <td>A0511</td>\n",
       "      <td>NaN</td>\n",
       "      <td>$250</td>\n",
       "      <td>M</td>\n",
       "      <td>Black</td>\n",
       "      <td>Medium</td>\n",
       "      <td>N</td>\n",
       "    </tr>\n",
       "    <tr>\n",
       "      <td>freq</td>\n",
       "      <td>1</td>\n",
       "      <td>NaN</td>\n",
       "      <td>2438</td>\n",
       "      <td>1541</td>\n",
       "      <td>344</td>\n",
       "      <td>1817</td>\n",
       "      <td>2525</td>\n",
       "    </tr>\n",
       "    <tr>\n",
       "      <td>mean</td>\n",
       "      <td>NaN</td>\n",
       "      <td>47.805052</td>\n",
       "      <td>NaN</td>\n",
       "      <td>NaN</td>\n",
       "      <td>NaN</td>\n",
       "      <td>NaN</td>\n",
       "      <td>NaN</td>\n",
       "    </tr>\n",
       "    <tr>\n",
       "      <td>std</td>\n",
       "      <td>NaN</td>\n",
       "      <td>62.663634</td>\n",
       "      <td>NaN</td>\n",
       "      <td>NaN</td>\n",
       "      <td>NaN</td>\n",
       "      <td>NaN</td>\n",
       "      <td>NaN</td>\n",
       "    </tr>\n",
       "    <tr>\n",
       "      <td>min</td>\n",
       "      <td>NaN</td>\n",
       "      <td>0.000000</td>\n",
       "      <td>NaN</td>\n",
       "      <td>NaN</td>\n",
       "      <td>NaN</td>\n",
       "      <td>NaN</td>\n",
       "      <td>NaN</td>\n",
       "    </tr>\n",
       "    <tr>\n",
       "      <td>25%</td>\n",
       "      <td>NaN</td>\n",
       "      <td>16.000000</td>\n",
       "      <td>NaN</td>\n",
       "      <td>NaN</td>\n",
       "      <td>NaN</td>\n",
       "      <td>NaN</td>\n",
       "      <td>NaN</td>\n",
       "    </tr>\n",
       "    <tr>\n",
       "      <td>50%</td>\n",
       "      <td>NaN</td>\n",
       "      <td>29.000000</td>\n",
       "      <td>NaN</td>\n",
       "      <td>NaN</td>\n",
       "      <td>NaN</td>\n",
       "      <td>NaN</td>\n",
       "      <td>NaN</td>\n",
       "    </tr>\n",
       "    <tr>\n",
       "      <td>75%</td>\n",
       "      <td>NaN</td>\n",
       "      <td>60.000000</td>\n",
       "      <td>NaN</td>\n",
       "      <td>NaN</td>\n",
       "      <td>NaN</td>\n",
       "      <td>NaN</td>\n",
       "      <td>NaN</td>\n",
       "    </tr>\n",
       "    <tr>\n",
       "      <td>max</td>\n",
       "      <td>NaN</td>\n",
       "      <td>812.000000</td>\n",
       "      <td>NaN</td>\n",
       "      <td>NaN</td>\n",
       "      <td>NaN</td>\n",
       "      <td>NaN</td>\n",
       "      <td>NaN</td>\n",
       "    </tr>\n",
       "  </tbody>\n",
       "</table>\n",
       "</div>"
      ],
      "text/plain": [
       "       Dog ID  Days in Rescue Adoption Fee   Sex  Color    Size  \\\n",
       "count    3088     3088.000000         3084  3088   3083    3069   \n",
       "unique   3088             NaN           13     6    387       6   \n",
       "top     A0511             NaN         $250     M  Black  Medium   \n",
       "freq        1             NaN         2438  1541    344    1817   \n",
       "mean      NaN       47.805052          NaN   NaN    NaN     NaN   \n",
       "std       NaN       62.663634          NaN   NaN    NaN     NaN   \n",
       "min       NaN        0.000000          NaN   NaN    NaN     NaN   \n",
       "25%       NaN       16.000000          NaN   NaN    NaN     NaN   \n",
       "50%       NaN       29.000000          NaN   NaN    NaN     NaN   \n",
       "75%       NaN       60.000000          NaN   NaN    NaN     NaN   \n",
       "max       NaN      812.000000          NaN   NaN    NaN     NaN   \n",
       "\n",
       "       Altered Prior to Intake (Y/N/U)  \n",
       "count                             3069  \n",
       "unique                               6  \n",
       "top                                  N  \n",
       "freq                              2525  \n",
       "mean                               NaN  \n",
       "std                                NaN  \n",
       "min                                NaN  \n",
       "25%                                NaN  \n",
       "50%                                NaN  \n",
       "75%                                NaN  \n",
       "max                                NaN  "
      ]
     },
     "execution_count": 10,
     "metadata": {},
     "output_type": "execute_result"
    }
   ],
   "source": [
    "dogs.describe(include = \"all\")"
   ]
  },
  {
   "cell_type": "code",
   "execution_count": 11,
   "metadata": {},
   "outputs": [
    {
     "data": {
      "text/plain": [
       "<matplotlib.axes._subplots.AxesSubplot at 0x10bbc7610>"
      ]
     },
     "execution_count": 11,
     "metadata": {},
     "output_type": "execute_result"
    },
    {
     "data": {
      "image/png": "[encoded data removed]",
      "text/plain": [
       "<Figure size 432x288 with 1 Axes>"
      ]
     },
     "metadata": {
      "needs_background": "light"
     },
     "output_type": "display_data"
    }
   ],
   "source": [
    "plt.figure()\n",
    "plt.tight_layout()\n",
    "sns.distplot(dogs['Days in Rescue'])"
   ]
  },
  {
   "cell_type": "code",
   "execution_count": 12,
   "metadata": {},
   "outputs": [
    {
     "data": {
      "image/png": "[encoded data removed]",
      "text/plain": [
       "<Figure size 360x360 with 1 Axes>"
      ]
     },
     "metadata": {
      "needs_background": "light"
     },
     "output_type": "display_data"
    }
   ],
   "source": [
    "sns.catplot(x=\"Size\", y=\"Days in Rescue\", kind=\"box\", data=dogs);"
   ]
  },
  {
   "cell_type": "code",
   "execution_count": null,
   "metadata": {},
   "outputs": [],
   "source": []
  },
  {
   "cell_type": "code",
   "execution_count": null,
   "metadata": {},
   "outputs": [],
   "source": []
  }
 ],
 "metadata": {
  "kernelspec": {
   "display_name": "Python 3",
   "language": "python",
   "name": "python3"
  },
  "language_info": {
   "codemirror_mode": {
    "name": "ipython",
    "version": 3
   },
   "file_extension": ".py",
   "mimetype": "text/x-python",
   "name": "python",
   "nbconvert_exporter": "python",
   "pygments_lexer": "ipython3",
   "version": "3.7.4"
  }
 },
 "nbformat": 4,
 "nbformat_minor": 2
}
