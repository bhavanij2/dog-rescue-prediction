{
 "cells": [
  {
   "cell_type": "markdown",
   "metadata": {},
   "source": [
    "This Exploratory Data Analysis will review dog adoption data from Needy Paws Rescue."
   ]
  },
  {
   "cell_type": "markdown",
   "metadata": {},
   "source": [
    "import the necessary libraries"
   ]
  },
  {
   "cell_type": "code",
   "execution_count": 146,
   "metadata": {},
   "outputs": [],
   "source": [
    "import numpy as np\n",
    "import pandas as pd\n",
    "import seaborn as sns\n",
    "import matplotlib.pyplot as plt\n",
    "%matplotlib inline"
   ]
  },
  {
   "cell_type": "markdown",
   "metadata": {},
   "source": [
    "import the dataset"
   ]
  },
  {
   "cell_type": "code",
   "execution_count": 114,
   "metadata": {},
   "outputs": [],
   "source": [
    "data = pd.read_csv('/Users/robineastwood/Desktop/CoderGirl_2020/Needy_Paws_project/NeedyPawsMaster.csv')"
   ]
  },
  {
   "cell_type": "markdown",
   "metadata": {},
   "source": [
    "As we can see below, our primary feature columns are Heartworm Positive, Breed, Sex, Age Group When Rescued, Color, and Size. Days in Rescue will serve as a target output variable, as we attempt to determine whether our predictor variables have an impact on this length of time. "
   ]
  },
  {
   "cell_type": "code",
   "execution_count": 115,
   "metadata": {
    "scrolled": true
   },
   "outputs": [
    {
     "data": {
      "text/html": [
       "<div>\n",
       "<style scoped>\n",
       "    .dataframe tbody tr th:only-of-type {\n",
       "        vertical-align: middle;\n",
       "    }\n",
       "\n",
       "    .dataframe tbody tr th {\n",
       "        vertical-align: top;\n",
       "    }\n",
       "\n",
       "    .dataframe thead th {\n",
       "        text-align: right;\n",
       "    }\n",
       "</style>\n",
       "<table border=\"1\" class=\"dataframe\">\n",
       "  <thead>\n",
       "    <tr style=\"text-align: right;\">\n",
       "      <th></th>\n",
       "      <th>Name of Dog</th>\n",
       "      <th>Days in Rescue</th>\n",
       "      <th>Heartworm Positive</th>\n",
       "      <th>Breed</th>\n",
       "      <th>Sex</th>\n",
       "      <th>Age Group When Rescued</th>\n",
       "      <th>Color</th>\n",
       "      <th>Size</th>\n",
       "    </tr>\n",
       "  </thead>\n",
       "  <tbody>\n",
       "    <tr>\n",
       "      <td>0</td>\n",
       "      <td>Aaron</td>\n",
       "      <td>30</td>\n",
       "      <td>N</td>\n",
       "      <td>Labrador</td>\n",
       "      <td>M</td>\n",
       "      <td>Young</td>\n",
       "      <td>Yellow</td>\n",
       "      <td>Medium</td>\n",
       "    </tr>\n",
       "    <tr>\n",
       "      <td>1</td>\n",
       "      <td>Abby</td>\n",
       "      <td>11</td>\n",
       "      <td>N</td>\n",
       "      <td>Dachshund</td>\n",
       "      <td>F</td>\n",
       "      <td>Adult</td>\n",
       "      <td>Tan</td>\n",
       "      <td>Small</td>\n",
       "    </tr>\n",
       "    <tr>\n",
       "      <td>2</td>\n",
       "      <td>Abby</td>\n",
       "      <td>31</td>\n",
       "      <td>N</td>\n",
       "      <td>Unknown</td>\n",
       "      <td>F</td>\n",
       "      <td>Adult</td>\n",
       "      <td>Brindle</td>\n",
       "      <td>Medium</td>\n",
       "    </tr>\n",
       "    <tr>\n",
       "      <td>3</td>\n",
       "      <td>Abby</td>\n",
       "      <td>47</td>\n",
       "      <td>N</td>\n",
       "      <td>Mixed Breed (Non-Pitbull)</td>\n",
       "      <td>F</td>\n",
       "      <td>Puppy</td>\n",
       "      <td>Multicolor</td>\n",
       "      <td>Medium</td>\n",
       "    </tr>\n",
       "    <tr>\n",
       "      <td>4</td>\n",
       "      <td>Abby</td>\n",
       "      <td>83</td>\n",
       "      <td>N</td>\n",
       "      <td>Chihuahua</td>\n",
       "      <td>F</td>\n",
       "      <td>Adult</td>\n",
       "      <td>Tan</td>\n",
       "      <td>Small</td>\n",
       "    </tr>\n",
       "  </tbody>\n",
       "</table>\n",
       "</div>"
      ],
      "text/plain": [
       "  Name of Dog  Days in Rescue Heartworm Positive                      Breed  \\\n",
       "0       Aaron              30                  N                   Labrador   \n",
       "1        Abby              11                  N                  Dachshund   \n",
       "2        Abby              31                  N                    Unknown   \n",
       "3        Abby              47                  N  Mixed Breed (Non-Pitbull)   \n",
       "4        Abby              83                  N                  Chihuahua   \n",
       "\n",
       "  Sex Age Group When Rescued       Color    Size  \n",
       "0   M                  Young      Yellow  Medium  \n",
       "1   F                  Adult         Tan   Small  \n",
       "2   F                  Adult     Brindle  Medium  \n",
       "3   F                  Puppy  Multicolor  Medium  \n",
       "4   F                  Adult         Tan   Small  "
      ]
     },
     "execution_count": 115,
     "metadata": {},
     "output_type": "execute_result"
    }
   ],
   "source": [
    "data.head()"
   ]
  },
  {
   "cell_type": "markdown",
   "metadata": {},
   "source": [
    "Let's set our index column to be Name of Dog."
   ]
  },
  {
   "cell_type": "code",
   "execution_count": 116,
   "metadata": {},
   "outputs": [],
   "source": [
    "data = data.set_index('Name of Dog')"
   ]
  },
  {
   "cell_type": "code",
   "execution_count": 117,
   "metadata": {},
   "outputs": [
    {
     "data": {
      "text/html": [
       "<div>\n",
       "<style scoped>\n",
       "    .dataframe tbody tr th:only-of-type {\n",
       "        vertical-align: middle;\n",
       "    }\n",
       "\n",
       "    .dataframe tbody tr th {\n",
       "        vertical-align: top;\n",
       "    }\n",
       "\n",
       "    .dataframe thead th {\n",
       "        text-align: right;\n",
       "    }\n",
       "</style>\n",
       "<table border=\"1\" class=\"dataframe\">\n",
       "  <thead>\n",
       "    <tr style=\"text-align: right;\">\n",
       "      <th></th>\n",
       "      <th>Days in Rescue</th>\n",
       "      <th>Heartworm Positive</th>\n",
       "      <th>Breed</th>\n",
       "      <th>Sex</th>\n",
       "      <th>Age Group When Rescued</th>\n",
       "      <th>Color</th>\n",
       "      <th>Size</th>\n",
       "    </tr>\n",
       "    <tr>\n",
       "      <th>Name of Dog</th>\n",
       "      <th></th>\n",
       "      <th></th>\n",
       "      <th></th>\n",
       "      <th></th>\n",
       "      <th></th>\n",
       "      <th></th>\n",
       "      <th></th>\n",
       "    </tr>\n",
       "  </thead>\n",
       "  <tbody>\n",
       "    <tr>\n",
       "      <td>Aaron</td>\n",
       "      <td>30</td>\n",
       "      <td>N</td>\n",
       "      <td>Labrador</td>\n",
       "      <td>M</td>\n",
       "      <td>Young</td>\n",
       "      <td>Yellow</td>\n",
       "      <td>Medium</td>\n",
       "    </tr>\n",
       "    <tr>\n",
       "      <td>Abby</td>\n",
       "      <td>11</td>\n",
       "      <td>N</td>\n",
       "      <td>Dachshund</td>\n",
       "      <td>F</td>\n",
       "      <td>Adult</td>\n",
       "      <td>Tan</td>\n",
       "      <td>Small</td>\n",
       "    </tr>\n",
       "    <tr>\n",
       "      <td>Abby</td>\n",
       "      <td>31</td>\n",
       "      <td>N</td>\n",
       "      <td>Unknown</td>\n",
       "      <td>F</td>\n",
       "      <td>Adult</td>\n",
       "      <td>Brindle</td>\n",
       "      <td>Medium</td>\n",
       "    </tr>\n",
       "    <tr>\n",
       "      <td>Abby</td>\n",
       "      <td>47</td>\n",
       "      <td>N</td>\n",
       "      <td>Mixed Breed (Non-Pitbull)</td>\n",
       "      <td>F</td>\n",
       "      <td>Puppy</td>\n",
       "      <td>Multicolor</td>\n",
       "      <td>Medium</td>\n",
       "    </tr>\n",
       "    <tr>\n",
       "      <td>Abby</td>\n",
       "      <td>83</td>\n",
       "      <td>N</td>\n",
       "      <td>Chihuahua</td>\n",
       "      <td>F</td>\n",
       "      <td>Adult</td>\n",
       "      <td>Tan</td>\n",
       "      <td>Small</td>\n",
       "    </tr>\n",
       "  </tbody>\n",
       "</table>\n",
       "</div>"
      ],
      "text/plain": [
       "             Days in Rescue Heartworm Positive                      Breed Sex  \\\n",
       "Name of Dog                                                                     \n",
       "Aaron                    30                  N                   Labrador   M   \n",
       "Abby                     11                  N                  Dachshund   F   \n",
       "Abby                     31                  N                    Unknown   F   \n",
       "Abby                     47                  N  Mixed Breed (Non-Pitbull)   F   \n",
       "Abby                     83                  N                  Chihuahua   F   \n",
       "\n",
       "            Age Group When Rescued       Color    Size  \n",
       "Name of Dog                                             \n",
       "Aaron                        Young      Yellow  Medium  \n",
       "Abby                         Adult         Tan   Small  \n",
       "Abby                         Adult     Brindle  Medium  \n",
       "Abby                         Puppy  Multicolor  Medium  \n",
       "Abby                         Adult         Tan   Small  "
      ]
     },
     "execution_count": 117,
     "metadata": {},
     "output_type": "execute_result"
    }
   ],
   "source": [
    "data.head()"
   ]
  },
  {
   "cell_type": "markdown",
   "metadata": {},
   "source": [
    "We have one feature that is numerical (Days in Rescue), the rest are categorical."
   ]
  },
  {
   "cell_type": "code",
   "execution_count": 118,
   "metadata": {},
   "outputs": [
    {
     "data": {
      "text/plain": [
       "Days in Rescue             int64\n",
       "Heartworm Positive        object\n",
       "Breed                     object\n",
       "Sex                       object\n",
       "Age Group When Rescued    object\n",
       "Color                     object\n",
       "Size                      object\n",
       "dtype: object"
      ]
     },
     "execution_count": 118,
     "metadata": {},
     "output_type": "execute_result"
    }
   ],
   "source": [
    "data.dtypes"
   ]
  },
  {
   "cell_type": "markdown",
   "metadata": {},
   "source": [
    "Our data consists of 3088 rows, with 7 descriptive feature columns:"
   ]
  },
  {
   "cell_type": "code",
   "execution_count": 119,
   "metadata": {},
   "outputs": [
    {
     "data": {
      "text/plain": [
       "(3088, 7)"
      ]
     },
     "execution_count": 119,
     "metadata": {},
     "output_type": "execute_result"
    }
   ],
   "source": [
    "data.shape"
   ]
  },
  {
   "cell_type": "markdown",
   "metadata": {},
   "source": [
    "Since we only have one feature of numerical data, the describe function is limited. We see that the mean days in rescue is around 48, but some dogs were adopted immediately (the minimum days in rescue is 0) and some dogs took as log as 812 days to be adopted. I can see that we're not missing any data in this column, since the count 3088 matches the results in data.shape."
   ]
  },
  {
   "cell_type": "code",
   "execution_count": 120,
   "metadata": {},
   "outputs": [
    {
     "data": {
      "text/html": [
       "<div>\n",
       "<style scoped>\n",
       "    .dataframe tbody tr th:only-of-type {\n",
       "        vertical-align: middle;\n",
       "    }\n",
       "\n",
       "    .dataframe tbody tr th {\n",
       "        vertical-align: top;\n",
       "    }\n",
       "\n",
       "    .dataframe thead th {\n",
       "        text-align: right;\n",
       "    }\n",
       "</style>\n",
       "<table border=\"1\" class=\"dataframe\">\n",
       "  <thead>\n",
       "    <tr style=\"text-align: right;\">\n",
       "      <th></th>\n",
       "      <th>Days in Rescue</th>\n",
       "    </tr>\n",
       "  </thead>\n",
       "  <tbody>\n",
       "    <tr>\n",
       "      <td>count</td>\n",
       "      <td>3088.000000</td>\n",
       "    </tr>\n",
       "    <tr>\n",
       "      <td>mean</td>\n",
       "      <td>47.679728</td>\n",
       "    </tr>\n",
       "    <tr>\n",
       "      <td>std</td>\n",
       "      <td>62.371584</td>\n",
       "    </tr>\n",
       "    <tr>\n",
       "      <td>min</td>\n",
       "      <td>0.000000</td>\n",
       "    </tr>\n",
       "    <tr>\n",
       "      <td>25%</td>\n",
       "      <td>16.000000</td>\n",
       "    </tr>\n",
       "    <tr>\n",
       "      <td>50%</td>\n",
       "      <td>29.000000</td>\n",
       "    </tr>\n",
       "    <tr>\n",
       "      <td>75%</td>\n",
       "      <td>60.000000</td>\n",
       "    </tr>\n",
       "    <tr>\n",
       "      <td>max</td>\n",
       "      <td>812.000000</td>\n",
       "    </tr>\n",
       "  </tbody>\n",
       "</table>\n",
       "</div>"
      ],
      "text/plain": [
       "       Days in Rescue\n",
       "count     3088.000000\n",
       "mean        47.679728\n",
       "std         62.371584\n",
       "min          0.000000\n",
       "25%         16.000000\n",
       "50%         29.000000\n",
       "75%         60.000000\n",
       "max        812.000000"
      ]
     },
     "execution_count": 120,
     "metadata": {},
     "output_type": "execute_result"
    }
   ],
   "source": [
    "data.describe()"
   ]
  },
  {
   "cell_type": "markdown",
   "metadata": {},
   "source": [
    "The 812 days may be an outlier that needs to be handled. Let's look at our Days in Rescue column, sorted in descending order so we can see what the data looks like. Since the data descends gradually rather than a sharp, distinct outlying value, I'm not going to drop any rows yet. "
   ]
  },
  {
   "cell_type": "code",
   "execution_count": 121,
   "metadata": {},
   "outputs": [
    {
     "data": {
      "text/html": [
       "<div>\n",
       "<style scoped>\n",
       "    .dataframe tbody tr th:only-of-type {\n",
       "        vertical-align: middle;\n",
       "    }\n",
       "\n",
       "    .dataframe tbody tr th {\n",
       "        vertical-align: top;\n",
       "    }\n",
       "\n",
       "    .dataframe thead th {\n",
       "        text-align: right;\n",
       "    }\n",
       "</style>\n",
       "<table border=\"1\" class=\"dataframe\">\n",
       "  <thead>\n",
       "    <tr style=\"text-align: right;\">\n",
       "      <th></th>\n",
       "      <th>Days in Rescue</th>\n",
       "      <th>Heartworm Positive</th>\n",
       "      <th>Breed</th>\n",
       "      <th>Sex</th>\n",
       "      <th>Age Group When Rescued</th>\n",
       "      <th>Color</th>\n",
       "      <th>Size</th>\n",
       "    </tr>\n",
       "    <tr>\n",
       "      <th>Name of Dog</th>\n",
       "      <th></th>\n",
       "      <th></th>\n",
       "      <th></th>\n",
       "      <th></th>\n",
       "      <th></th>\n",
       "      <th></th>\n",
       "      <th></th>\n",
       "    </tr>\n",
       "  </thead>\n",
       "  <tbody>\n",
       "    <tr>\n",
       "      <td>Henry</td>\n",
       "      <td>812</td>\n",
       "      <td>N</td>\n",
       "      <td>Terrier</td>\n",
       "      <td>M</td>\n",
       "      <td>Young</td>\n",
       "      <td>Multicolor</td>\n",
       "      <td>Large</td>\n",
       "    </tr>\n",
       "    <tr>\n",
       "      <td>Coach</td>\n",
       "      <td>784</td>\n",
       "      <td>N</td>\n",
       "      <td>Pitbull</td>\n",
       "      <td>M</td>\n",
       "      <td>Puppy</td>\n",
       "      <td>Multicolor</td>\n",
       "      <td>Medium</td>\n",
       "    </tr>\n",
       "    <tr>\n",
       "      <td>Jessica</td>\n",
       "      <td>765</td>\n",
       "      <td>N</td>\n",
       "      <td>Boxer</td>\n",
       "      <td>F</td>\n",
       "      <td>Senior</td>\n",
       "      <td>Tan</td>\n",
       "      <td>Large</td>\n",
       "    </tr>\n",
       "    <tr>\n",
       "      <td>Snookie</td>\n",
       "      <td>759</td>\n",
       "      <td>N</td>\n",
       "      <td>Pitbull</td>\n",
       "      <td>F</td>\n",
       "      <td>Adult</td>\n",
       "      <td>White</td>\n",
       "      <td>Medium</td>\n",
       "    </tr>\n",
       "    <tr>\n",
       "      <td>Braxton</td>\n",
       "      <td>698</td>\n",
       "      <td>N</td>\n",
       "      <td>Pitbull</td>\n",
       "      <td>F</td>\n",
       "      <td>Adult</td>\n",
       "      <td>Brindle</td>\n",
       "      <td>Medium</td>\n",
       "    </tr>\n",
       "    <tr>\n",
       "      <td>Snow White</td>\n",
       "      <td>528</td>\n",
       "      <td>N</td>\n",
       "      <td>Pitbull</td>\n",
       "      <td>F</td>\n",
       "      <td>Adult</td>\n",
       "      <td>White</td>\n",
       "      <td>Medium</td>\n",
       "    </tr>\n",
       "    <tr>\n",
       "      <td>Queenie</td>\n",
       "      <td>510</td>\n",
       "      <td>N</td>\n",
       "      <td>Pitbull</td>\n",
       "      <td>F</td>\n",
       "      <td>Adult</td>\n",
       "      <td>Multicolor</td>\n",
       "      <td>Medium</td>\n",
       "    </tr>\n",
       "    <tr>\n",
       "      <td>Merlin</td>\n",
       "      <td>460</td>\n",
       "      <td>N</td>\n",
       "      <td>Pitbull</td>\n",
       "      <td>M</td>\n",
       "      <td>Young</td>\n",
       "      <td>Multicolor</td>\n",
       "      <td>Medium</td>\n",
       "    </tr>\n",
       "    <tr>\n",
       "      <td>Trina</td>\n",
       "      <td>459</td>\n",
       "      <td>N</td>\n",
       "      <td>Mixed Breed (Non-Pitbull)</td>\n",
       "      <td>F</td>\n",
       "      <td>Adult</td>\n",
       "      <td>Black</td>\n",
       "      <td>Small</td>\n",
       "    </tr>\n",
       "    <tr>\n",
       "      <td>Percival</td>\n",
       "      <td>419</td>\n",
       "      <td>N</td>\n",
       "      <td>Brussels Griffon</td>\n",
       "      <td>M</td>\n",
       "      <td>Adult</td>\n",
       "      <td>Brown</td>\n",
       "      <td>Small</td>\n",
       "    </tr>\n",
       "    <tr>\n",
       "      <td>Severide</td>\n",
       "      <td>415</td>\n",
       "      <td>N</td>\n",
       "      <td>German Shepherd</td>\n",
       "      <td>M</td>\n",
       "      <td>Young</td>\n",
       "      <td>Multicolor</td>\n",
       "      <td>Medium</td>\n",
       "    </tr>\n",
       "    <tr>\n",
       "      <td>Hershey Kiss</td>\n",
       "      <td>414</td>\n",
       "      <td>N</td>\n",
       "      <td>Labrador</td>\n",
       "      <td>F</td>\n",
       "      <td>Adult</td>\n",
       "      <td>Brown</td>\n",
       "      <td>Large</td>\n",
       "    </tr>\n",
       "    <tr>\n",
       "      <td>Midnight Bliss</td>\n",
       "      <td>411</td>\n",
       "      <td>N</td>\n",
       "      <td>Labrador</td>\n",
       "      <td>F</td>\n",
       "      <td>Adult</td>\n",
       "      <td>Black</td>\n",
       "      <td>Large</td>\n",
       "    </tr>\n",
       "    <tr>\n",
       "      <td>Basil</td>\n",
       "      <td>410</td>\n",
       "      <td>N</td>\n",
       "      <td>Mixed Breed (Non-Pitbull)</td>\n",
       "      <td>F</td>\n",
       "      <td>Young</td>\n",
       "      <td>Multicolor</td>\n",
       "      <td>Medium</td>\n",
       "    </tr>\n",
       "    <tr>\n",
       "      <td>Nellie</td>\n",
       "      <td>397</td>\n",
       "      <td>N</td>\n",
       "      <td>Mixed Breed (Pitbull)</td>\n",
       "      <td>F</td>\n",
       "      <td>Young</td>\n",
       "      <td>Black</td>\n",
       "      <td>Medium</td>\n",
       "    </tr>\n",
       "    <tr>\n",
       "      <td>Jenni</td>\n",
       "      <td>396</td>\n",
       "      <td>N</td>\n",
       "      <td>Mixed Breed (Non-Pitbull)</td>\n",
       "      <td>M</td>\n",
       "      <td>Puppy</td>\n",
       "      <td>Multicolor</td>\n",
       "      <td>Medium</td>\n",
       "    </tr>\n",
       "    <tr>\n",
       "      <td>Liz</td>\n",
       "      <td>396</td>\n",
       "      <td>N</td>\n",
       "      <td>Mixed Breed (Non-Pitbull)</td>\n",
       "      <td>F</td>\n",
       "      <td>Young</td>\n",
       "      <td>Multicolor</td>\n",
       "      <td>Medium</td>\n",
       "    </tr>\n",
       "    <tr>\n",
       "      <td>Xena</td>\n",
       "      <td>393</td>\n",
       "      <td>N</td>\n",
       "      <td>Pitbull</td>\n",
       "      <td>F</td>\n",
       "      <td>Adult</td>\n",
       "      <td>Multicolor</td>\n",
       "      <td>Medium</td>\n",
       "    </tr>\n",
       "    <tr>\n",
       "      <td>Hogan</td>\n",
       "      <td>389</td>\n",
       "      <td>N</td>\n",
       "      <td>Pitbull</td>\n",
       "      <td>M</td>\n",
       "      <td>Young</td>\n",
       "      <td>Multicolor</td>\n",
       "      <td>Large</td>\n",
       "    </tr>\n",
       "    <tr>\n",
       "      <td>Lola</td>\n",
       "      <td>383</td>\n",
       "      <td>N</td>\n",
       "      <td>Shepherd</td>\n",
       "      <td>F</td>\n",
       "      <td>Young</td>\n",
       "      <td>Multicolor</td>\n",
       "      <td>Medium</td>\n",
       "    </tr>\n",
       "  </tbody>\n",
       "</table>\n",
       "</div>"
      ],
      "text/plain": [
       "                Days in Rescue Heartworm Positive                      Breed  \\\n",
       "Name of Dog                                                                    \n",
       "Henry                      812                  N                    Terrier   \n",
       "Coach                      784                  N                    Pitbull   \n",
       "Jessica                    765                  N                      Boxer   \n",
       "Snookie                    759                  N                    Pitbull   \n",
       "Braxton                    698                  N                    Pitbull   \n",
       "Snow White                 528                  N                    Pitbull   \n",
       "Queenie                    510                  N                    Pitbull   \n",
       "Merlin                     460                  N                    Pitbull   \n",
       "Trina                      459                  N  Mixed Breed (Non-Pitbull)   \n",
       "Percival                   419                  N           Brussels Griffon   \n",
       "Severide                   415                  N            German Shepherd   \n",
       "Hershey Kiss               414                  N                   Labrador   \n",
       "Midnight Bliss             411                  N                   Labrador   \n",
       "Basil                      410                  N  Mixed Breed (Non-Pitbull)   \n",
       "Nellie                     397                  N      Mixed Breed (Pitbull)   \n",
       "Jenni                      396                  N  Mixed Breed (Non-Pitbull)   \n",
       "Liz                        396                  N  Mixed Breed (Non-Pitbull)   \n",
       "Xena                       393                  N                    Pitbull   \n",
       "Hogan                      389                  N                    Pitbull   \n",
       "Lola                       383                  N                   Shepherd   \n",
       "\n",
       "               Sex Age Group When Rescued       Color    Size  \n",
       "Name of Dog                                                    \n",
       "Henry            M                  Young  Multicolor   Large  \n",
       "Coach            M                  Puppy  Multicolor  Medium  \n",
       "Jessica          F                 Senior         Tan   Large  \n",
       "Snookie          F                  Adult       White  Medium  \n",
       "Braxton          F                  Adult     Brindle  Medium  \n",
       "Snow White       F                  Adult       White  Medium  \n",
       "Queenie          F                  Adult  Multicolor  Medium  \n",
       "Merlin           M                  Young  Multicolor  Medium  \n",
       "Trina            F                  Adult       Black   Small  \n",
       "Percival         M                  Adult       Brown   Small  \n",
       "Severide         M                  Young  Multicolor  Medium  \n",
       "Hershey Kiss     F                  Adult       Brown   Large  \n",
       "Midnight Bliss   F                  Adult       Black   Large  \n",
       "Basil            F                  Young  Multicolor  Medium  \n",
       "Nellie           F                  Young       Black  Medium  \n",
       "Jenni            M                  Puppy  Multicolor  Medium  \n",
       "Liz              F                  Young  Multicolor  Medium  \n",
       "Xena             F                  Adult  Multicolor  Medium  \n",
       "Hogan            M                  Young  Multicolor   Large  \n",
       "Lola             F                  Young  Multicolor  Medium  "
      ]
     },
     "execution_count": 121,
     "metadata": {},
     "output_type": "execute_result"
    }
   ],
   "source": [
    "data.sort_values(by='Days in Rescue', ascending=False)[0:20]"
   ]
  },
  {
   "cell_type": "markdown",
   "metadata": {},
   "source": [
    "Let's take it a step further and plot a histogram. If there are any data points more than 3 standard deviations from the mean, we'll drop them."
   ]
  },
  {
   "cell_type": "code",
   "execution_count": 145,
   "metadata": {},
   "outputs": [
    {
     "data": {
      "image/png": "[encoded data removed]",
      "text/plain": [
       "<Figure size 432x288 with 1 Axes>"
      ]
     },
     "metadata": {
      "needs_background": "light"
     },
     "output_type": "display_data"
    }
   ],
   "source": [
    "#I need some help on this one! Since it's not a normal distribution....\n",
    "\n",
    "mu = data['Days in Rescue'].mean()\n",
    "sigma = data['Days in Rescue'].std()\n",
    "x = data['Days in Rescue']\n",
    "num_bins = 200\n",
    "\n",
    "plt.hist(x, bins=num_bins)\n",
    "plt.show()"
   ]
  },
  {
   "cell_type": "markdown",
   "metadata": {},
   "source": [
    "Let's look at each of our predictor variables to see how many categories we are working with in each:"
   ]
  },
  {
   "cell_type": "code",
   "execution_count": 62,
   "metadata": {},
   "outputs": [
    {
     "name": "stdout",
     "output_type": "stream",
     "text": [
      "There are 103 labels for Breed\n",
      "There are 2 labels for Sex\n",
      "There are 5 labels for Age Group\n",
      "There are 11 labels for Color\n",
      "There are 4 labels for Size\n"
     ]
    }
   ],
   "source": [
    "print(\"There are \" + str(data['Breed'].nunique()) + \" labels for Breed\")\n",
    "print(\"There are \" + str(data['Sex'].nunique()) + \" labels for Sex\")\n",
    "print(\"There are \" + str(data['Age Group When Rescued'].nunique()) + \" labels for Age Group\")\n",
    "print(\"There are \" + str(data['Color'].nunique()) + \" labels for Color\")\n",
    "print(\"There are \" + str(data['Size'].nunique()) + \" labels for Size\")"
   ]
  },
  {
   "cell_type": "markdown",
   "metadata": {},
   "source": [
    "I'm curious about what the average length of time in rescue is for each of our predictor variables. When considering breed, rather than view a ranking of all 103 of them, I'll make a bar plot to look at the 10 breeds that took the longest to be adopted on average, and another bar plot to see the 10 breeds that were adopted most quickly on average:"
   ]
  },
  {
   "cell_type": "code",
   "execution_count": 81,
   "metadata": {
    "scrolled": true
   },
   "outputs": [
    {
     "data": {
      "image/png": "[encoded data removed]",
      "text/plain": [
       "<Figure size 432x288 with 1 Axes>"
      ]
     },
     "metadata": {
      "needs_background": "light"
     },
     "output_type": "display_data"
    },
    {
     "data": {
      "image/png": "[encoded data removed]",
      "text/plain": [
       "<Figure size 432x288 with 1 Axes>"
      ]
     },
     "metadata": {
      "needs_background": "light"
     },
     "output_type": "display_data"
    }
   ],
   "source": [
    "breed = data.groupby('Breed').mean()\n",
    "breed_longest = breed.sort_values(by = 'Days in Rescue',ascending = False)[0:10]\n",
    "breed_shortest = breed.sort_values(by = 'Days in Rescue')[0:10]\n",
    "\n",
    "breed_longest['Days in Rescue'].plot(kind='bar')\n",
    "plt.xlabel('Breeds')\n",
    "plt.ylabel('Mean Days in Rescue')\n",
    "plt.title('Longest to be Adopted')\n",
    "plt.show()\n",
    "\n",
    "breed_shortest['Days in Rescue'].plot(kind='bar')\n",
    "plt.xlabel('Breeds')\n",
    "plt.ylabel('Mean Days in Rescue')\n",
    "plt.title('Quickest to be Adopted')\n",
    "plt.show()"
   ]
  },
  {
   "cell_type": "markdown",
   "metadata": {},
   "source": [
    "Were there any differences in average time in rescue for Male vs. Female?"
   ]
  },
  {
   "cell_type": "code",
   "execution_count": 82,
   "metadata": {},
   "outputs": [
    {
     "data": {
      "image/png": "[encoded data removed]",
      "text/plain": [
       "<Figure size 432x288 with 1 Axes>"
      ]
     },
     "metadata": {
      "needs_background": "light"
     },
     "output_type": "display_data"
    }
   ],
   "source": [
    "sex = data.groupby('Sex').mean()\n",
    "\n",
    "sex['Days in Rescue'].plot(kind='bar')\n",
    "plt.xlabel('Sex')\n",
    "plt.ylabel('Days')\n",
    "plt.title('Mean Days in Rescue by Sex')\n",
    "plt.show()"
   ]
  },
  {
   "cell_type": "markdown",
   "metadata": {},
   "source": [
    "What was the average length of time in rescue for each age group? It's not surprising that puppies were adopted most quickly."
   ]
  },
  {
   "cell_type": "code",
   "execution_count": 89,
   "metadata": {},
   "outputs": [
    {
     "data": {
      "image/png": "[encoded data removed]",
      "text/plain": [
       "<Figure size 432x288 with 1 Axes>"
      ]
     },
     "metadata": {
      "needs_background": "light"
     },
     "output_type": "display_data"
    }
   ],
   "source": [
    "age = data.groupby('Age Group When Rescued').mean()\n",
    "\n",
    "age_sorted = age.sort_values(by = 'Days in Rescue')\n",
    "age_sorted['Days in Rescue'].plot(kind='bar')\n",
    "plt.xlabel('Age')\n",
    "plt.ylabel('Days')\n",
    "plt.title('Mean Days in Rescue by Age Group')\n",
    "plt.show()"
   ]
  },
  {
   "cell_type": "markdown",
   "metadata": {},
   "source": [
    "Let's look at which color dogs were adopted most quickly:"
   ]
  },
  {
   "cell_type": "code",
   "execution_count": 86,
   "metadata": {},
   "outputs": [
    {
     "data": {
      "image/png": "[encoded data removed]",
      "text/plain": [
       "<Figure size 432x288 with 1 Axes>"
      ]
     },
     "metadata": {
      "needs_background": "light"
     },
     "output_type": "display_data"
    }
   ],
   "source": [
    "color = data.groupby('Color').mean()\n",
    "\n",
    "color_sorted = color.sort_values(by = 'Days in Rescue')\n",
    "color_sorted['Days in Rescue'].plot(kind='bar')\n",
    "plt.xlabel('Color')\n",
    "plt.ylabel('Days')\n",
    "plt.title('Mean Days in Rescue by Color')\n",
    "plt.show()"
   ]
  },
  {
   "cell_type": "markdown",
   "metadata": {},
   "source": [
    "Did the dog's size make a dramatic difference in the length of time to be adopted?"
   ]
  },
  {
   "cell_type": "code",
   "execution_count": 91,
   "metadata": {},
   "outputs": [
    {
     "data": {
      "image/png": "[encoded data removed]",
      "text/plain": [
       "<Figure size 432x288 with 1 Axes>"
      ]
     },
     "metadata": {
      "needs_background": "light"
     },
     "output_type": "display_data"
    }
   ],
   "source": [
    "size = data.groupby('Size').mean()\n",
    "size_sorted = size.sort_values(by = 'Days in Rescue')\n",
    "\n",
    "size_sorted['Days in Rescue'].plot(kind='bar')\n",
    "plt.xlabel('Size')\n",
    "plt.ylabel('Days')\n",
    "plt.title('Mean Days in Rescue by Size')\n",
    "plt.show()"
   ]
  },
  {
   "cell_type": "code",
   "execution_count": null,
   "metadata": {},
   "outputs": [],
   "source": []
  }
 ],
 "metadata": {
  "kernelspec": {
   "display_name": "Python 3",
   "language": "python",
   "name": "python3"
  },
  "language_info": {
   "codemirror_mode": {
    "name": "ipython",
    "version": 3
   },
   "file_extension": ".py",
   "mimetype": "text/x-python",
   "name": "python",
   "nbconvert_exporter": "python",
   "pygments_lexer": "ipython3",
   "version": "3.7.4"
  }
 },
 "nbformat": 4,
 "nbformat_minor": 2
}
