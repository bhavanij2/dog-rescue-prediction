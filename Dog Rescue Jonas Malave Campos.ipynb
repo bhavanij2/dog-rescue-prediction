{
 "cells": [
  {
   "cell_type": "markdown",
   "metadata": {},
   "source": [
    "# Importing Libraries"
   ]
  },
  {
   "cell_type": "code",
   "execution_count": 56,
   "metadata": {},
   "outputs": [],
   "source": [
    "#Import Libraries\n",
    "import numpy as np\n",
    "import pandas as pd\n",
    "import matplotlib.pyplot as plt\n",
    "import seaborn as sns\n",
    "%matplotlib inline"
   ]
  },
  {
   "cell_type": "markdown",
   "metadata": {},
   "source": [
    "# Importing Datasset"
   ]
  },
  {
   "cell_type": "code",
   "execution_count": 57,
   "metadata": {},
   "outputs": [
    {
     "data": {
      "text/html": [
       "<div>\n",
       "<style scoped>\n",
       "    .dataframe tbody tr th:only-of-type {\n",
       "        vertical-align: middle;\n",
       "    }\n",
       "\n",
       "    .dataframe tbody tr th {\n",
       "        vertical-align: top;\n",
       "    }\n",
       "\n",
       "    .dataframe thead th {\n",
       "        text-align: right;\n",
       "    }\n",
       "</style>\n",
       "<table border=\"1\" class=\"dataframe\">\n",
       "  <thead>\n",
       "    <tr style=\"text-align: right;\">\n",
       "      <th></th>\n",
       "      <th>Name of Dog</th>\n",
       "      <th>Days in Rescue</th>\n",
       "      <th>Heartworm Positive</th>\n",
       "      <th>Breed</th>\n",
       "      <th>Sex</th>\n",
       "      <th>Age Group When Rescued</th>\n",
       "      <th>Color</th>\n",
       "      <th>Size</th>\n",
       "    </tr>\n",
       "  </thead>\n",
       "  <tbody>\n",
       "    <tr>\n",
       "      <th>0</th>\n",
       "      <td>Aaron</td>\n",
       "      <td>30</td>\n",
       "      <td>N</td>\n",
       "      <td>Labrador</td>\n",
       "      <td>M</td>\n",
       "      <td>Young</td>\n",
       "      <td>Yellow</td>\n",
       "      <td>Medium</td>\n",
       "    </tr>\n",
       "  </tbody>\n",
       "</table>\n",
       "</div>"
      ],
      "text/plain": [
       "  Name of Dog  Days in Rescue Heartworm Positive     Breed Sex  \\\n",
       "0       Aaron              30                  N  Labrador   M   \n",
       "\n",
       "  Age Group When Rescued   Color    Size  \n",
       "0                  Young  Yellow  Medium  "
      ]
     },
     "execution_count": 57,
     "metadata": {},
     "output_type": "execute_result"
    }
   ],
   "source": [
    "#Importing dataset\n",
    "df=pd.read_excel('Needy Paws Master.xlsx')\n",
    "df.head(1)"
   ]
  },
  {
   "cell_type": "markdown",
   "metadata": {},
   "source": [
    "# Creating Percentiles to Fix Outliers"
   ]
  },
  {
   "cell_type": "code",
   "execution_count": 58,
   "metadata": {},
   "outputs": [
    {
     "data": {
      "text/plain": [
       "array([[<matplotlib.axes._subplots.AxesSubplot object at 0x0000025D192ACE48>]],\n",
       "      dtype=object)"
      ]
     },
     "execution_count": 58,
     "metadata": {},
     "output_type": "execute_result"
    },
    {
     "data": {
      "image/png": "[encoded data removed]",
      "text/plain": [
       "<Figure size 432x288 with 1 Axes>"
      ]
     },
     "metadata": {
      "needs_background": "light"
     },
     "output_type": "display_data"
    }
   ],
   "source": [
    "#Before fixing Percentiles\n",
    "df['Days in Rescue']"
   ]
  },
  {
   "cell_type": "code",
   "execution_count": 59,
   "metadata": {},
   "outputs": [
    {
     "name": "stdout",
     "output_type": "stream",
     "text": [
      "Days in Rescue    44.0\n",
      "dtype: float64\n"
     ]
    }
   ],
   "source": [
    "#Creating Percentiles\n",
    "df1=pd.DataFrame(df['Days in Rescue'])\n",
    "Q1 = df1.quantile(0.25)\n",
    "Q3 = df1.quantile(0.75)\n",
    "IQR = Q3 - Q1\n",
    "print(IQR)"
   ]
  },
  {
   "cell_type": "code",
   "execution_count": 60,
   "metadata": {
    "scrolled": false
   },
   "outputs": [
    {
     "data": {
      "text/plain": [
       "array([[<matplotlib.axes._subplots.AxesSubplot object at 0x0000025D192C2CC8>]],\n",
       "      dtype=object)"
      ]
     },
     "execution_count": 60,
     "metadata": {},
     "output_type": "execute_result"
    },
    {
     "data": {
      "image/png": "[encoded data removed]",
      "text/plain": [
       "<Figure size 432x288 with 1 Axes>"
      ]
     },
     "metadata": {
      "needs_background": "light"
     },
     "output_type": "display_data"
    }
   ],
   "source": [
    "#Fixing Outliers\n",
    "df1=pd.DataFrame(df['Days in Rescue'])\n",
    "df1 = df1[~((df1 < (Q1 - 1.5 * IQR)) |(df1 > (Q3 + 1.5 * IQR))).any(axis=1)]\n",
    "df=df.drop(['Days in Rescue'],axis=1)\n",
    "df=df.join(df1)\n",
    "df.hist()"
   ]
  },
  {
   "cell_type": "markdown",
   "metadata": {},
   "source": [
    "# Ordering Columns"
   ]
  },
  {
   "cell_type": "code",
   "execution_count": 61,
   "metadata": {},
   "outputs": [
    {
     "data": {
      "text/html": [
       "<div>\n",
       "<style scoped>\n",
       "    .dataframe tbody tr th:only-of-type {\n",
       "        vertical-align: middle;\n",
       "    }\n",
       "\n",
       "    .dataframe tbody tr th {\n",
       "        vertical-align: top;\n",
       "    }\n",
       "\n",
       "    .dataframe thead th {\n",
       "        text-align: right;\n",
       "    }\n",
       "</style>\n",
       "<table border=\"1\" class=\"dataframe\">\n",
       "  <thead>\n",
       "    <tr style=\"text-align: right;\">\n",
       "      <th></th>\n",
       "      <th>Name of Dog</th>\n",
       "      <th>Days in Rescue</th>\n",
       "      <th>Heartworm Positive</th>\n",
       "      <th>Breed</th>\n",
       "      <th>Sex</th>\n",
       "      <th>Age Group When Rescued</th>\n",
       "      <th>Color</th>\n",
       "      <th>Size</th>\n",
       "    </tr>\n",
       "  </thead>\n",
       "  <tbody>\n",
       "    <tr>\n",
       "      <th>0</th>\n",
       "      <td>Aaron</td>\n",
       "      <td>30.0</td>\n",
       "      <td>N</td>\n",
       "      <td>Labrador</td>\n",
       "      <td>M</td>\n",
       "      <td>Young</td>\n",
       "      <td>Yellow</td>\n",
       "      <td>Medium</td>\n",
       "    </tr>\n",
       "    <tr>\n",
       "      <th>1</th>\n",
       "      <td>Abby</td>\n",
       "      <td>11.0</td>\n",
       "      <td>N</td>\n",
       "      <td>Dachshund</td>\n",
       "      <td>F</td>\n",
       "      <td>Adult</td>\n",
       "      <td>Tan</td>\n",
       "      <td>Small</td>\n",
       "    </tr>\n",
       "    <tr>\n",
       "      <th>2</th>\n",
       "      <td>Abby</td>\n",
       "      <td>31.0</td>\n",
       "      <td>N</td>\n",
       "      <td>Unknown</td>\n",
       "      <td>F</td>\n",
       "      <td>Adult</td>\n",
       "      <td>Brindle</td>\n",
       "      <td>Medium</td>\n",
       "    </tr>\n",
       "    <tr>\n",
       "      <th>3</th>\n",
       "      <td>Abby</td>\n",
       "      <td>47.0</td>\n",
       "      <td>N</td>\n",
       "      <td>Mixed Breed (Non-Pitbull)</td>\n",
       "      <td>F</td>\n",
       "      <td>Puppy</td>\n",
       "      <td>Multicolor</td>\n",
       "      <td>Medium</td>\n",
       "    </tr>\n",
       "    <tr>\n",
       "      <th>4</th>\n",
       "      <td>Abby</td>\n",
       "      <td>83.0</td>\n",
       "      <td>N</td>\n",
       "      <td>Chihuahua</td>\n",
       "      <td>F</td>\n",
       "      <td>Adult</td>\n",
       "      <td>Tan</td>\n",
       "      <td>Small</td>\n",
       "    </tr>\n",
       "    <tr>\n",
       "      <th>5</th>\n",
       "      <td>Abby</td>\n",
       "      <td>90.0</td>\n",
       "      <td>N</td>\n",
       "      <td>Mastiff</td>\n",
       "      <td>F</td>\n",
       "      <td>Young</td>\n",
       "      <td>Red</td>\n",
       "      <td>Large</td>\n",
       "    </tr>\n",
       "    <tr>\n",
       "      <th>6</th>\n",
       "      <td>Abe</td>\n",
       "      <td>21.0</td>\n",
       "      <td>N</td>\n",
       "      <td>Shepherd</td>\n",
       "      <td>M</td>\n",
       "      <td>Young</td>\n",
       "      <td>Multicolor</td>\n",
       "      <td>Large</td>\n",
       "    </tr>\n",
       "    <tr>\n",
       "      <th>7</th>\n",
       "      <td>Abigail</td>\n",
       "      <td>64.0</td>\n",
       "      <td>N</td>\n",
       "      <td>Chihuahua</td>\n",
       "      <td>F</td>\n",
       "      <td>Puppy</td>\n",
       "      <td>Multicolor</td>\n",
       "      <td>Small</td>\n",
       "    </tr>\n",
       "    <tr>\n",
       "      <th>8</th>\n",
       "      <td>Abigail</td>\n",
       "      <td>NaN</td>\n",
       "      <td>N</td>\n",
       "      <td>Golden Retriever</td>\n",
       "      <td>F</td>\n",
       "      <td>Adult</td>\n",
       "      <td>Red</td>\n",
       "      <td>Medium</td>\n",
       "    </tr>\n",
       "    <tr>\n",
       "      <th>9</th>\n",
       "      <td>Abilene</td>\n",
       "      <td>76.0</td>\n",
       "      <td>N</td>\n",
       "      <td>Mixed Breed (Non-Pitbull)</td>\n",
       "      <td>F</td>\n",
       "      <td>Puppy</td>\n",
       "      <td>Multicolor</td>\n",
       "      <td>Medium</td>\n",
       "    </tr>\n",
       "  </tbody>\n",
       "</table>\n",
       "</div>"
      ],
      "text/plain": [
       "  Name of Dog  Days in Rescue Heartworm Positive                      Breed  \\\n",
       "0       Aaron            30.0                  N                   Labrador   \n",
       "1        Abby            11.0                  N                  Dachshund   \n",
       "2        Abby            31.0                  N                    Unknown   \n",
       "3        Abby            47.0                  N  Mixed Breed (Non-Pitbull)   \n",
       "4        Abby            83.0                  N                  Chihuahua   \n",
       "5        Abby            90.0                  N                    Mastiff   \n",
       "6         Abe            21.0                  N                   Shepherd   \n",
       "7     Abigail            64.0                  N                  Chihuahua   \n",
       "8     Abigail             NaN                  N          Golden Retriever    \n",
       "9     Abilene            76.0                  N  Mixed Breed (Non-Pitbull)   \n",
       "\n",
       "  Sex Age Group When Rescued       Color    Size  \n",
       "0   M                  Young      Yellow  Medium  \n",
       "1   F                  Adult         Tan   Small  \n",
       "2   F                  Adult     Brindle  Medium  \n",
       "3   F                  Puppy  Multicolor  Medium  \n",
       "4   F                  Adult         Tan   Small  \n",
       "5   F                  Young         Red   Large  \n",
       "6   M                  Young  Multicolor   Large  \n",
       "7   F                  Puppy  Multicolor   Small  \n",
       "8   F                  Adult         Red  Medium  \n",
       "9   F                  Puppy  Multicolor  Medium  "
      ]
     },
     "execution_count": 61,
     "metadata": {},
     "output_type": "execute_result"
    }
   ],
   "source": [
    "#Ordering Columns\n",
    "\n",
    "column_names=['Name of Dog', 'Days in Rescue', 'Heartworm Positive', 'Breed', 'Sex',\n",
    "       'Age Group When Rescued', 'Color', 'Size']\n",
    "df = df.reindex(columns=column_names)\n",
    "df.head(10)"
   ]
  },
  {
   "cell_type": "markdown",
   "metadata": {},
   "source": [
    "# Cleaning Adoption Fee Column"
   ]
  },
  {
   "cell_type": "code",
   "execution_count": 62,
   "metadata": {},
   "outputs": [],
   "source": [
    "#df['Adoption Fee'].unique()"
   ]
  },
  {
   "cell_type": "code",
   "execution_count": 63,
   "metadata": {},
   "outputs": [],
   "source": [
    "#Cleaning Adoption Fee\n",
    "#df['Adoption Fee']=df['Adoption Fee'].astype(float)\n",
    "#df['Adoption Fee'] = df['Adoption Fee'].str.replace(r'\\D', '')\n",
    "#df['Adoption Fee'] = df['Adoption Fee'].str.replace('$', '')\n",
    "#df['Adoption Fee'] = df['Adoption Fee'].replace({'\\$': '', ',': ''}, regex=True).astype(float)\n",
    "\n",
    "#df['Adoption Fee'].unique()"
   ]
  },
  {
   "cell_type": "code",
   "execution_count": 64,
   "metadata": {},
   "outputs": [],
   "source": [
    "#df['Adoption Fee']=pd.to_numeric(df['Adoption Fee'])"
   ]
  },
  {
   "cell_type": "markdown",
   "metadata": {},
   "source": [
    "# Creating Dummy Variables for Sex Column"
   ]
  },
  {
   "cell_type": "code",
   "execution_count": 65,
   "metadata": {},
   "outputs": [
    {
     "data": {
      "text/plain": [
       "<matplotlib.axes._subplots.AxesSubplot at 0x25d18d1c6c8>"
      ]
     },
     "execution_count": 65,
     "metadata": {},
     "output_type": "execute_result"
    },
    {
     "data": {
      "image/png": "[encoded data removed]",
      "text/plain": [
       "<Figure size 432x288 with 1 Axes>"
      ]
     },
     "metadata": {
      "needs_background": "light"
     },
     "output_type": "display_data"
    }
   ],
   "source": [
    "#sex column before dummy variables\n",
    "df['Sex'].hist()"
   ]
  },
  {
   "cell_type": "code",
   "execution_count": 66,
   "metadata": {},
   "outputs": [
    {
     "data": {
      "text/plain": [
       "<matplotlib.axes._subplots.AxesSubplot at 0x25d1936dbc8>"
      ]
     },
     "execution_count": 66,
     "metadata": {},
     "output_type": "execute_result"
    },
    {
     "data": {
      "image/png": "[encoded data removed]",
      "text/plain": [
       "<Figure size 432x288 with 1 Axes>"
      ]
     },
     "metadata": {
      "needs_background": "light"
     },
     "output_type": "display_data"
    }
   ],
   "source": [
    "#Dummy Variables for Sex\n",
    "df['Sex']=pd.get_dummies(df['Sex'])\n",
    "df['Sex'].hist()"
   ]
  },
  {
   "cell_type": "markdown",
   "metadata": {},
   "source": [
    "# Dummy Variables for Size Column"
   ]
  },
  {
   "cell_type": "code",
   "execution_count": 67,
   "metadata": {
    "scrolled": true
   },
   "outputs": [
    {
     "data": {
      "text/plain": [
       "<matplotlib.axes._subplots.AxesSubplot at 0x25d19310c88>"
      ]
     },
     "execution_count": 67,
     "metadata": {},
     "output_type": "execute_result"
    },
    {
     "data": {
      "image/png": "[encoded data removed]",
      "text/plain": [
       "<Figure size 432x288 with 1 Axes>"
      ]
     },
     "metadata": {
      "needs_background": "light"
     },
     "output_type": "display_data"
    }
   ],
   "source": [
    "# Size Columb before Dummy Variables \n",
    "df['Size'].hist()"
   ]
  },
  {
   "cell_type": "code",
   "execution_count": 68,
   "metadata": {},
   "outputs": [],
   "source": [
    "#Function to Create Dummy Variable\n",
    "def dummy_variables(size):\n",
    "    if size==\"Small\":\n",
    "        return 0\n",
    "    elif size=='Medium':\n",
    "        return 1\n",
    "    elif size=='Large':\n",
    "        return 2\n",
    "    elif size=='X Large':\n",
    "        return 3\n",
    "    \n",
    "df['Size']=df['Size'].apply(dummy_variables)\n",
    "df['Size']=pd.to_numeric(df['Size'])"
   ]
  },
  {
   "cell_type": "code",
   "execution_count": 69,
   "metadata": {},
   "outputs": [
    {
     "data": {
      "text/plain": [
       "<matplotlib.axes._subplots.AxesSubplot at 0x25d1948bc08>"
      ]
     },
     "execution_count": 69,
     "metadata": {},
     "output_type": "execute_result"
    },
    {
     "data": {
      "image/png": "[encoded data removed]",
      "text/plain": [
       "<Figure size 432x288 with 1 Axes>"
      ]
     },
     "metadata": {
      "needs_background": "light"
     },
     "output_type": "display_data"
    }
   ],
   "source": [
    "df['Size'].hist(bins=10)"
   ]
  },
  {
   "cell_type": "markdown",
   "metadata": {},
   "source": [
    "# Dummy Variables for Age When Rescued Column"
   ]
  },
  {
   "cell_type": "code",
   "execution_count": 70,
   "metadata": {},
   "outputs": [
    {
     "data": {
      "text/plain": [
       "<matplotlib.axes._subplots.AxesSubplot at 0x25d19473c08>"
      ]
     },
     "execution_count": 70,
     "metadata": {},
     "output_type": "execute_result"
    },
    {
     "data": {
      "image/png": "[encoded data removed]",
      "text/plain": [
       "<Figure size 432x288 with 1 Axes>"
      ]
     },
     "metadata": {
      "needs_background": "light"
     },
     "output_type": "display_data"
    }
   ],
   "source": [
    "#Age when Rescued before Dummy Variables\n",
    "df['Age Group When Rescued'].hist()"
   ]
  },
  {
   "cell_type": "code",
   "execution_count": 71,
   "metadata": {},
   "outputs": [],
   "source": [
    "#Function Age When Rescued\n",
    "def dummy_variables_age(size):\n",
    "    if size==\"Young\":\n",
    "        return 0\n",
    "    elif size=='Adult':\n",
    "        return 1\n",
    "    elif size=='Puppy':\n",
    "        return 2\n",
    "    elif size=='Senior':\n",
    "        return 3\n",
    "    \n",
    "df['Age Group When Rescued']=df['Age Group When Rescued'].apply(dummy_variables_age)\n",
    "df['Age Group When Rescued']=pd.to_numeric(df['Age Group When Rescued'])"
   ]
  },
  {
   "cell_type": "code",
   "execution_count": 72,
   "metadata": {},
   "outputs": [
    {
     "data": {
      "text/plain": [
       "<matplotlib.axes._subplots.AxesSubplot at 0x25d16dbeb48>"
      ]
     },
     "execution_count": 72,
     "metadata": {},
     "output_type": "execute_result"
    },
    {
     "data": {
      "image/png": "[encoded data removed]",
      "text/plain": [
       "<Figure size 432x288 with 1 Axes>"
      ]
     },
     "metadata": {
      "needs_background": "light"
     },
     "output_type": "display_data"
    }
   ],
   "source": [
    "#Age when Rescued after Dummy Variables\n",
    "df['Age Group When Rescued'].hist()"
   ]
  },
  {
   "cell_type": "markdown",
   "metadata": {},
   "source": [
    "# Testing Correlation"
   ]
  },
  {
   "cell_type": "code",
   "execution_count": 73,
   "metadata": {},
   "outputs": [
    {
     "data": {
      "text/html": [
       "<div>\n",
       "<style scoped>\n",
       "    .dataframe tbody tr th:only-of-type {\n",
       "        vertical-align: middle;\n",
       "    }\n",
       "\n",
       "    .dataframe tbody tr th {\n",
       "        vertical-align: top;\n",
       "    }\n",
       "\n",
       "    .dataframe thead th {\n",
       "        text-align: right;\n",
       "    }\n",
       "</style>\n",
       "<table border=\"1\" class=\"dataframe\">\n",
       "  <thead>\n",
       "    <tr style=\"text-align: right;\">\n",
       "      <th></th>\n",
       "      <th>Days in Rescue</th>\n",
       "      <th>Sex</th>\n",
       "      <th>Age Group When Rescued</th>\n",
       "      <th>Size</th>\n",
       "    </tr>\n",
       "  </thead>\n",
       "  <tbody>\n",
       "    <tr>\n",
       "      <th>Days in Rescue</th>\n",
       "      <td>1.000000</td>\n",
       "      <td>-0.017461</td>\n",
       "      <td>0.125791</td>\n",
       "      <td>0.055090</td>\n",
       "    </tr>\n",
       "    <tr>\n",
       "      <th>Sex</th>\n",
       "      <td>-0.017461</td>\n",
       "      <td>1.000000</td>\n",
       "      <td>0.019503</td>\n",
       "      <td>-0.049886</td>\n",
       "    </tr>\n",
       "    <tr>\n",
       "      <th>Age Group When Rescued</th>\n",
       "      <td>0.125791</td>\n",
       "      <td>0.019503</td>\n",
       "      <td>1.000000</td>\n",
       "      <td>0.007479</td>\n",
       "    </tr>\n",
       "    <tr>\n",
       "      <th>Size</th>\n",
       "      <td>0.055090</td>\n",
       "      <td>-0.049886</td>\n",
       "      <td>0.007479</td>\n",
       "      <td>1.000000</td>\n",
       "    </tr>\n",
       "  </tbody>\n",
       "</table>\n",
       "</div>"
      ],
      "text/plain": [
       "                        Days in Rescue       Sex  Age Group When Rescued  \\\n",
       "Days in Rescue                1.000000 -0.017461                0.125791   \n",
       "Sex                          -0.017461  1.000000                0.019503   \n",
       "Age Group When Rescued        0.125791  0.019503                1.000000   \n",
       "Size                          0.055090 -0.049886                0.007479   \n",
       "\n",
       "                            Size  \n",
       "Days in Rescue          0.055090  \n",
       "Sex                    -0.049886  \n",
       "Age Group When Rescued  0.007479  \n",
       "Size                    1.000000  "
      ]
     },
     "execution_count": 73,
     "metadata": {},
     "output_type": "execute_result"
    }
   ],
   "source": [
    "df.corr()"
   ]
  },
  {
   "cell_type": "code",
   "execution_count": 74,
   "metadata": {},
   "outputs": [
    {
     "data": {
      "text/plain": [
       "<matplotlib.axes._subplots.AxesSubplot at 0x25d1917db08>"
      ]
     },
     "execution_count": 74,
     "metadata": {},
     "output_type": "execute_result"
    },
    {
     "data": {
      "image/png": "[encoded data removed]",
      "text/plain": [
       "<Figure size 432x288 with 2 Axes>"
      ]
     },
     "metadata": {
      "needs_background": "light"
     },
     "output_type": "display_data"
    }
   ],
   "source": [
    "sns.heatmap(data=df.corr(), cmap='coolwarm', annot=True)"
   ]
  },
  {
   "cell_type": "code",
   "execution_count": 75,
   "metadata": {
    "scrolled": true
   },
   "outputs": [
    {
     "data": {
      "text/html": [
       "<div>\n",
       "<style scoped>\n",
       "    .dataframe tbody tr th:only-of-type {\n",
       "        vertical-align: middle;\n",
       "    }\n",
       "\n",
       "    .dataframe tbody tr th {\n",
       "        vertical-align: top;\n",
       "    }\n",
       "\n",
       "    .dataframe thead th {\n",
       "        text-align: right;\n",
       "    }\n",
       "</style>\n",
       "<table border=\"1\" class=\"dataframe\">\n",
       "  <thead>\n",
       "    <tr style=\"text-align: right;\">\n",
       "      <th></th>\n",
       "      <th>Days in Rescue</th>\n",
       "      <th>Sex</th>\n",
       "      <th>Age Group When Rescued</th>\n",
       "      <th>Size</th>\n",
       "    </tr>\n",
       "  </thead>\n",
       "  <tbody>\n",
       "    <tr>\n",
       "      <th>count</th>\n",
       "      <td>2898.000000</td>\n",
       "      <td>3088.000000</td>\n",
       "      <td>3032.000000</td>\n",
       "      <td>3069.000000</td>\n",
       "    </tr>\n",
       "    <tr>\n",
       "      <th>mean</th>\n",
       "      <td>35.389924</td>\n",
       "      <td>0.498381</td>\n",
       "      <td>1.155343</td>\n",
       "      <td>0.813620</td>\n",
       "    </tr>\n",
       "    <tr>\n",
       "      <th>std</th>\n",
       "      <td>26.605917</td>\n",
       "      <td>0.500078</td>\n",
       "      <td>0.933244</td>\n",
       "      <td>0.616851</td>\n",
       "    </tr>\n",
       "    <tr>\n",
       "      <th>min</th>\n",
       "      <td>0.000000</td>\n",
       "      <td>0.000000</td>\n",
       "      <td>0.000000</td>\n",
       "      <td>0.000000</td>\n",
       "    </tr>\n",
       "    <tr>\n",
       "      <th>25%</th>\n",
       "      <td>15.000000</td>\n",
       "      <td>0.000000</td>\n",
       "      <td>0.000000</td>\n",
       "      <td>0.000000</td>\n",
       "    </tr>\n",
       "    <tr>\n",
       "      <th>50%</th>\n",
       "      <td>28.000000</td>\n",
       "      <td>0.000000</td>\n",
       "      <td>1.000000</td>\n",
       "      <td>1.000000</td>\n",
       "    </tr>\n",
       "    <tr>\n",
       "      <th>75%</th>\n",
       "      <td>52.000000</td>\n",
       "      <td>1.000000</td>\n",
       "      <td>2.000000</td>\n",
       "      <td>1.000000</td>\n",
       "    </tr>\n",
       "    <tr>\n",
       "      <th>max</th>\n",
       "      <td>126.000000</td>\n",
       "      <td>1.000000</td>\n",
       "      <td>3.000000</td>\n",
       "      <td>3.000000</td>\n",
       "    </tr>\n",
       "  </tbody>\n",
       "</table>\n",
       "</div>"
      ],
      "text/plain": [
       "       Days in Rescue          Sex  Age Group When Rescued         Size\n",
       "count     2898.000000  3088.000000             3032.000000  3069.000000\n",
       "mean        35.389924     0.498381                1.155343     0.813620\n",
       "std         26.605917     0.500078                0.933244     0.616851\n",
       "min          0.000000     0.000000                0.000000     0.000000\n",
       "25%         15.000000     0.000000                0.000000     0.000000\n",
       "50%         28.000000     0.000000                1.000000     1.000000\n",
       "75%         52.000000     1.000000                2.000000     1.000000\n",
       "max        126.000000     1.000000                3.000000     3.000000"
      ]
     },
     "execution_count": 75,
     "metadata": {},
     "output_type": "execute_result"
    }
   ],
   "source": [
    "df.describe()"
   ]
  },
  {
   "cell_type": "markdown",
   "metadata": {},
   "source": [
    "# Exploring Correlation between Columns"
   ]
  },
  {
   "cell_type": "code",
   "execution_count": 76,
   "metadata": {},
   "outputs": [
    {
     "data": {
      "text/plain": [
       "<seaborn.axisgrid.PairGrid at 0x25d192b4f08>"
      ]
     },
     "execution_count": 76,
     "metadata": {},
     "output_type": "execute_result"
    },
    {
     "data": {
      "image/png": "[encoded data removed]",
      "text/plain": [
       "<Figure size 720x720 with 20 Axes>"
      ]
     },
     "metadata": {
      "needs_background": "light"
     },
     "output_type": "display_data"
    }
   ],
   "source": [
    "sns.pairplot(data=df)"
   ]
  }
 ],
 "metadata": {
  "kernelspec": {
   "display_name": "Python 3.7.1 64-bit ('base': conda)",
   "language": "python",
   "name": "python37164bitbaseconda820b29c32fab41ac933726cb703aa4f4"
  },
  "language_info": {
   "codemirror_mode": {
    "name": "ipython",
    "version": 3
   },
   "file_extension": ".py",
   "mimetype": "text/x-python",
   "name": "python",
   "nbconvert_exporter": "python",
   "pygments_lexer": "ipython3",
   "version": "3.7.6"
  }
 },
 "nbformat": 4,
 "nbformat_minor": 4
}
