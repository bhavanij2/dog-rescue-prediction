{
 "cells": [
  {
   "cell_type": "code",
   "execution_count": 438,
   "metadata": {},
   "outputs": [],
   "source": [
    "#Import Libraries\n",
    "import numpy as np\n",
    "import pandas as pd\n",
    "import matplotlib.pyplot as plt\n",
    "import seaborn as sns\n",
    "%matplotlib inline"
   ]
  },
  {
   "cell_type": "code",
   "execution_count": 439,
   "metadata": {},
   "outputs": [
    {
     "data": {
      "text/plain": [
       "Index(['Name of Dog', 'Current Status', 'Date Rescued', 'Adoption Date',\n",
       "       'Days in Rescue', 'Heartworm Positive', 'Adoption Fee', 'Breed',\n",
       "       'Breed (Revised - Main)', 'Sex', 'Age When\\nRescued',\n",
       "       'Age Group When Rescued', 'Color', 'Color (Revised)', 'Size',\n",
       "       'Altered Prior to Intake (Y/N/U)', 'Intake\\nForm#', 'Rescued From'],\n",
       "      dtype='object')"
      ]
     },
     "execution_count": 439,
     "metadata": {},
     "output_type": "execute_result"
    }
   ],
   "source": [
    "#Importing dataset\n",
    "df=pd.read_excel('Needy Paws Master.xlsx')\n",
    "df1=pd.DataFrame(df['Days in Rescue'])\n",
    "df.columns"
   ]
  },
  {
   "cell_type": "code",
   "execution_count": 440,
   "metadata": {},
   "outputs": [
    {
     "name": "stdout",
     "output_type": "stream",
     "text": [
      "Days in Rescue    44.0\n",
      "dtype: float64\n"
     ]
    }
   ],
   "source": [
    "#Creating Percentiles\n",
    "Q1 = df1.quantile(0.25)\n",
    "Q3 = df1.quantile(0.75)\n",
    "IQR = Q3 - Q1\n",
    "print(IQR)"
   ]
  },
  {
   "cell_type": "code",
   "execution_count": 441,
   "metadata": {
    "scrolled": false
   },
   "outputs": [
    {
     "data": {
      "text/plain": [
       "array([[<matplotlib.axes._subplots.AxesSubplot object at 0x0000018E8E8BDAC8>]],\n",
       "      dtype=object)"
      ]
     },
     "execution_count": 441,
     "metadata": {},
     "output_type": "execute_result"
    },
    {
     "data": {
      "image/png": "[encoded data removed]",
      "text/plain": [
       "<Figure size 432x288 with 1 Axes>"
      ]
     },
     "metadata": {
      "needs_background": "light"
     },
     "output_type": "display_data"
    }
   ],
   "source": [
    "#Fixing Outliers\n",
    "df1=pd.DataFrame(df['Days in Rescue'])\n",
    "df1 = df1[~((df1 < (Q1 - 1.5 * IQR)) |(df1 > (Q3 + 1.5 * IQR))).any(axis=1)]\n",
    "df=df.drop(['Days in Rescue','Breed','Color','Age When\\nRescued'],axis=1)\n",
    "df=df.join(df1)\n",
    "df.hist()"
   ]
  },
  {
   "cell_type": "code",
   "execution_count": 442,
   "metadata": {},
   "outputs": [
    {
     "data": {
      "text/html": [
       "<div>\n",
       "<style scoped>\n",
       "    .dataframe tbody tr th:only-of-type {\n",
       "        vertical-align: middle;\n",
       "    }\n",
       "\n",
       "    .dataframe tbody tr th {\n",
       "        vertical-align: top;\n",
       "    }\n",
       "\n",
       "    .dataframe thead th {\n",
       "        text-align: right;\n",
       "    }\n",
       "</style>\n",
       "<table border=\"1\" class=\"dataframe\">\n",
       "  <thead>\n",
       "    <tr style=\"text-align: right;\">\n",
       "      <th></th>\n",
       "      <th>Name of Dog</th>\n",
       "      <th>Current Status</th>\n",
       "      <th>Date Rescued</th>\n",
       "      <th>Adoption Date</th>\n",
       "      <th>Days in Rescue</th>\n",
       "      <th>Heartworm Positive</th>\n",
       "      <th>Adoption Fee</th>\n",
       "      <th>Breed (Revised - Main)</th>\n",
       "      <th>Sex</th>\n",
       "      <th>Age Group When Rescued</th>\n",
       "      <th>Color (Revised)</th>\n",
       "      <th>Size</th>\n",
       "      <th>Altered Prior to Intake (Y/N/U)</th>\n",
       "      <th>Intake\\nForm#</th>\n",
       "      <th>Rescued From</th>\n",
       "    </tr>\n",
       "  </thead>\n",
       "  <tbody>\n",
       "    <tr>\n",
       "      <th>0</th>\n",
       "      <td>Aaron</td>\n",
       "      <td>Adopted</td>\n",
       "      <td>2018-06-21 00:00:00</td>\n",
       "      <td>2018-07-21</td>\n",
       "      <td>30.0</td>\n",
       "      <td>N</td>\n",
       "      <td>250</td>\n",
       "      <td>Labrador</td>\n",
       "      <td>M</td>\n",
       "      <td>Young</td>\n",
       "      <td>Yellow</td>\n",
       "      <td>Medium</td>\n",
       "      <td>Y</td>\n",
       "      <td>NaN</td>\n",
       "      <td>Return</td>\n",
       "    </tr>\n",
       "    <tr>\n",
       "      <th>1</th>\n",
       "      <td>Abby</td>\n",
       "      <td>Adopted</td>\n",
       "      <td>2017-12-19 00:00:00</td>\n",
       "      <td>2017-12-30</td>\n",
       "      <td>11.0</td>\n",
       "      <td>N</td>\n",
       "      <td>195</td>\n",
       "      <td>Dachshund</td>\n",
       "      <td>F</td>\n",
       "      <td>Adult</td>\n",
       "      <td>Tan</td>\n",
       "      <td>Small</td>\n",
       "      <td>N</td>\n",
       "      <td>NaN</td>\n",
       "      <td>2546 Spruce Dr, Cabool, MO 65689</td>\n",
       "    </tr>\n",
       "    <tr>\n",
       "      <th>2</th>\n",
       "      <td>Abby</td>\n",
       "      <td>Adopted</td>\n",
       "      <td>2018-03-21 00:00:00</td>\n",
       "      <td>2018-04-21</td>\n",
       "      <td>31.0</td>\n",
       "      <td>N</td>\n",
       "      <td>175</td>\n",
       "      <td>Unknown</td>\n",
       "      <td>F</td>\n",
       "      <td>Adult</td>\n",
       "      <td>Brindle</td>\n",
       "      <td>Medium</td>\n",
       "      <td>NaN</td>\n",
       "      <td>NaN</td>\n",
       "      <td>NaN</td>\n",
       "    </tr>\n",
       "    <tr>\n",
       "      <th>3</th>\n",
       "      <td>Abby</td>\n",
       "      <td>Adopted</td>\n",
       "      <td>2017-09-23 00:00:00</td>\n",
       "      <td>2017-11-09</td>\n",
       "      <td>47.0</td>\n",
       "      <td>N</td>\n",
       "      <td>250</td>\n",
       "      <td>Mixed Breed (Non-Pitbull)</td>\n",
       "      <td>F</td>\n",
       "      <td>Puppy</td>\n",
       "      <td>Multicolor</td>\n",
       "      <td>Medium</td>\n",
       "      <td>N</td>\n",
       "      <td>NaN</td>\n",
       "      <td>Owner surrender</td>\n",
       "    </tr>\n",
       "    <tr>\n",
       "      <th>4</th>\n",
       "      <td>Abby</td>\n",
       "      <td>Adopted</td>\n",
       "      <td>2016-10-03 00:00:00</td>\n",
       "      <td>2016-12-25</td>\n",
       "      <td>83.0</td>\n",
       "      <td>N</td>\n",
       "      <td>175</td>\n",
       "      <td>Chihuahua</td>\n",
       "      <td>F</td>\n",
       "      <td>Adult</td>\n",
       "      <td>Tan</td>\n",
       "      <td>Small</td>\n",
       "      <td>NaN</td>\n",
       "      <td>15098</td>\n",
       "      <td>Houston, MO AC</td>\n",
       "    </tr>\n",
       "    <tr>\n",
       "      <th>5</th>\n",
       "      <td>Abby</td>\n",
       "      <td>Adopted</td>\n",
       "      <td>2018-11-13 00:00:00</td>\n",
       "      <td>2019-02-11</td>\n",
       "      <td>90.0</td>\n",
       "      <td>N</td>\n",
       "      <td>250</td>\n",
       "      <td>Mastiff</td>\n",
       "      <td>F</td>\n",
       "      <td>Young</td>\n",
       "      <td>Red</td>\n",
       "      <td>Large</td>\n",
       "      <td>N</td>\n",
       "      <td>16720</td>\n",
       "      <td>Born in rescue</td>\n",
       "    </tr>\n",
       "    <tr>\n",
       "      <th>6</th>\n",
       "      <td>Abby</td>\n",
       "      <td>Adopted</td>\n",
       "      <td>NaN</td>\n",
       "      <td>NaT</td>\n",
       "      <td>NaN</td>\n",
       "      <td>N</td>\n",
       "      <td>250</td>\n",
       "      <td>Labrador</td>\n",
       "      <td>F</td>\n",
       "      <td>NaN</td>\n",
       "      <td>NaN</td>\n",
       "      <td>NaN</td>\n",
       "      <td>N</td>\n",
       "      <td>NaN</td>\n",
       "      <td>JCAC of Missouri</td>\n",
       "    </tr>\n",
       "    <tr>\n",
       "      <th>7</th>\n",
       "      <td>Abby Girl</td>\n",
       "      <td>Adopted</td>\n",
       "      <td>2015-02-23 00:00:00</td>\n",
       "      <td>NaT</td>\n",
       "      <td>NaN</td>\n",
       "      <td>N</td>\n",
       "      <td>195</td>\n",
       "      <td>American Staffordshire Terrier</td>\n",
       "      <td>F</td>\n",
       "      <td>Young</td>\n",
       "      <td>Black</td>\n",
       "      <td>Medium</td>\n",
       "      <td>Y</td>\n",
       "      <td>18411</td>\n",
       "      <td>Owner surrender</td>\n",
       "    </tr>\n",
       "    <tr>\n",
       "      <th>8</th>\n",
       "      <td>Abe</td>\n",
       "      <td>Adopted</td>\n",
       "      <td>2019-09-20 00:00:00</td>\n",
       "      <td>2019-10-11</td>\n",
       "      <td>21.0</td>\n",
       "      <td>N</td>\n",
       "      <td>250</td>\n",
       "      <td>Shepherd</td>\n",
       "      <td>M</td>\n",
       "      <td>Young</td>\n",
       "      <td>Multicolor</td>\n",
       "      <td>Large</td>\n",
       "      <td>N</td>\n",
       "      <td>18300</td>\n",
       "      <td>Owner surrender</td>\n",
       "    </tr>\n",
       "    <tr>\n",
       "      <th>9</th>\n",
       "      <td>Abigail</td>\n",
       "      <td>Adopted</td>\n",
       "      <td>2016-10-05 00:00:00</td>\n",
       "      <td>2016-12-08</td>\n",
       "      <td>64.0</td>\n",
       "      <td>N</td>\n",
       "      <td>250</td>\n",
       "      <td>Chihuahua</td>\n",
       "      <td>F</td>\n",
       "      <td>Puppy</td>\n",
       "      <td>Multicolor</td>\n",
       "      <td>Small</td>\n",
       "      <td>Y</td>\n",
       "      <td>18154</td>\n",
       "      <td>Malden, MO AC</td>\n",
       "    </tr>\n",
       "  </tbody>\n",
       "</table>\n",
       "</div>"
      ],
      "text/plain": [
       "  Name of Dog Current Status         Date Rescued Adoption Date  \\\n",
       "0       Aaron        Adopted  2018-06-21 00:00:00    2018-07-21   \n",
       "1        Abby        Adopted  2017-12-19 00:00:00    2017-12-30   \n",
       "2        Abby        Adopted  2018-03-21 00:00:00    2018-04-21   \n",
       "3        Abby        Adopted  2017-09-23 00:00:00    2017-11-09   \n",
       "4        Abby        Adopted  2016-10-03 00:00:00    2016-12-25   \n",
       "5        Abby        Adopted  2018-11-13 00:00:00    2019-02-11   \n",
       "6        Abby        Adopted                  NaN           NaT   \n",
       "7   Abby Girl        Adopted  2015-02-23 00:00:00           NaT   \n",
       "8         Abe        Adopted  2019-09-20 00:00:00    2019-10-11   \n",
       "9     Abigail        Adopted  2016-10-05 00:00:00    2016-12-08   \n",
       "\n",
       "   Days in Rescue Heartworm Positive Adoption Fee  \\\n",
       "0            30.0                  N          250   \n",
       "1            11.0                  N          195   \n",
       "2            31.0                  N          175   \n",
       "3            47.0                  N          250   \n",
       "4            83.0                  N          175   \n",
       "5            90.0                  N          250   \n",
       "6             NaN                  N          250   \n",
       "7             NaN                  N          195   \n",
       "8            21.0                  N          250   \n",
       "9            64.0                  N          250   \n",
       "\n",
       "           Breed (Revised - Main) Sex Age Group When Rescued Color (Revised)  \\\n",
       "0                        Labrador   M                  Young          Yellow   \n",
       "1                       Dachshund   F                  Adult             Tan   \n",
       "2                         Unknown   F                  Adult         Brindle   \n",
       "3       Mixed Breed (Non-Pitbull)   F                  Puppy      Multicolor   \n",
       "4                       Chihuahua   F                  Adult             Tan   \n",
       "5                         Mastiff   F                  Young             Red   \n",
       "6                        Labrador   F                    NaN             NaN   \n",
       "7  American Staffordshire Terrier   F                  Young           Black   \n",
       "8                        Shepherd   M                  Young      Multicolor   \n",
       "9                       Chihuahua   F                  Puppy      Multicolor   \n",
       "\n",
       "     Size Altered Prior to Intake (Y/N/U) Intake\\nForm#  \\\n",
       "0  Medium                               Y           NaN   \n",
       "1   Small                               N           NaN   \n",
       "2  Medium                             NaN           NaN   \n",
       "3  Medium                               N           NaN   \n",
       "4   Small                             NaN         15098   \n",
       "5   Large                               N         16720   \n",
       "6     NaN                               N           NaN   \n",
       "7  Medium                               Y         18411   \n",
       "8   Large                               N         18300   \n",
       "9   Small                               Y         18154   \n",
       "\n",
       "                       Rescued From  \n",
       "0                           Return   \n",
       "1  2546 Spruce Dr, Cabool, MO 65689  \n",
       "2                               NaN  \n",
       "3                   Owner surrender  \n",
       "4                    Houston, MO AC  \n",
       "5                    Born in rescue  \n",
       "6                  JCAC of Missouri  \n",
       "7                   Owner surrender  \n",
       "8                   Owner surrender  \n",
       "9                     Malden, MO AC  "
      ]
     },
     "execution_count": 442,
     "metadata": {},
     "output_type": "execute_result"
    }
   ],
   "source": [
    "#Ordering Columns\n",
    "column_names=['Name of Dog', 'Current Status', 'Date Rescued', 'Adoption Date',\n",
    "       'Days in Rescue', 'Heartworm Positive', 'Adoption Fee',\n",
    "       'Breed (Revised - Main)', 'Sex',\n",
    "       'Age Group When Rescued', 'Color (Revised)', 'Size',\n",
    "       'Altered Prior to Intake (Y/N/U)', 'Intake\\nForm#', 'Rescued From']\n",
    "df = df.reindex(columns=column_names)\n",
    "df.head(10)"
   ]
  },
  {
   "cell_type": "code",
   "execution_count": 443,
   "metadata": {},
   "outputs": [
    {
     "data": {
      "text/plain": [
       "array([250, 195, 175, 125, 100, 75, nan, '$250', 120, 200, 150, 20, ' ',\n",
       "       50, '125 per Lora', 1959, '$175'], dtype=object)"
      ]
     },
     "execution_count": 443,
     "metadata": {},
     "output_type": "execute_result"
    }
   ],
   "source": [
    "df['Adoption Fee'].unique()"
   ]
  },
  {
   "cell_type": "code",
   "execution_count": 444,
   "metadata": {},
   "outputs": [],
   "source": [
    "#Cleaning Adoption Fee\n",
    "#df['Adoption Fee']=df['Adoption Fee'].astype(float)\n",
    "#df['Adoption Fee'] = df['Adoption Fee'].str.replace(r'\\D', '')\n",
    "#df['Adoption Fee'] = df['Adoption Fee'].str.replace('$', '')\n",
    "#df['Adoption Fee'] = df['Adoption Fee'].replace({'\\$': '', ',': ''}, regex=True).astype(float)\n",
    "\n",
    "#df['Adoption Fee'].unique()"
   ]
  },
  {
   "cell_type": "code",
   "execution_count": 445,
   "metadata": {},
   "outputs": [],
   "source": [
    "#df['Adoption Fee']=pd.to_numeric(df['Adoption Fee'])"
   ]
  },
  {
   "cell_type": "code",
   "execution_count": 446,
   "metadata": {},
   "outputs": [
    {
     "data": {
      "text/plain": [
       "<matplotlib.axes._subplots.AxesSubplot at 0x18e8e887348>"
      ]
     },
     "execution_count": 446,
     "metadata": {},
     "output_type": "execute_result"
    },
    {
     "data": {
      "image/png": "[encoded data removed]",
      "text/plain": [
       "<Figure size 432x288 with 1 Axes>"
      ]
     },
     "metadata": {
      "needs_background": "light"
     },
     "output_type": "display_data"
    }
   ],
   "source": [
    "#sex dummy variables\n",
    "df['Sex'].hist()"
   ]
  },
  {
   "cell_type": "code",
   "execution_count": 447,
   "metadata": {},
   "outputs": [
    {
     "data": {
      "text/plain": [
       "<matplotlib.axes._subplots.AxesSubplot at 0x18e8e8a5f88>"
      ]
     },
     "execution_count": 447,
     "metadata": {},
     "output_type": "execute_result"
    },
    {
     "data": {
      "image/png": "[encoded data removed]",
      "text/plain": [
       "<Figure size 432x288 with 1 Axes>"
      ]
     },
     "metadata": {
      "needs_background": "light"
     },
     "output_type": "display_data"
    }
   ],
   "source": [
    "#Dummy Variables for Sex\n",
    "df['Sex']=pd.get_dummies(df['Sex'])\n",
    "df['Sex'].hist()"
   ]
  },
  {
   "cell_type": "code",
   "execution_count": 448,
   "metadata": {
    "scrolled": true
   },
   "outputs": [
    {
     "data": {
      "text/plain": [
       "<matplotlib.axes._subplots.AxesSubplot at 0x18e8e8cf148>"
      ]
     },
     "execution_count": 448,
     "metadata": {},
     "output_type": "execute_result"
    },
    {
     "data": {
      "image/png": "[encoded data removed]",
      "text/plain": [
       "<Figure size 432x288 with 1 Axes>"
      ]
     },
     "metadata": {
      "needs_background": "light"
     },
     "output_type": "display_data"
    }
   ],
   "source": [
    "#Dummy Variables for size\n",
    "df['Size'].hist()"
   ]
  },
  {
   "cell_type": "code",
   "execution_count": 449,
   "metadata": {},
   "outputs": [],
   "source": [
    "#Dummy variables size\n",
    "def dummy_variables(size):\n",
    "    if size==\"Small\":\n",
    "        return 0\n",
    "    elif size=='Medium':\n",
    "        return 1\n",
    "    elif size=='Large':\n",
    "        return 2\n",
    "    elif size=='X Large':\n",
    "        return 3\n",
    "    \n",
    "df['Size']=df['Size'].apply(dummy_variables)\n",
    "df['Size']=pd.to_numeric(df['Size'])"
   ]
  },
  {
   "cell_type": "code",
   "execution_count": 450,
   "metadata": {},
   "outputs": [
    {
     "data": {
      "text/plain": [
       "0       False\n",
       "1       False\n",
       "2       False\n",
       "3       False\n",
       "4       False\n",
       "        ...  \n",
       "4228    False\n",
       "4229    False\n",
       "4230    False\n",
       "4231    False\n",
       "4232    False\n",
       "Name: Size, Length: 4233, dtype: bool"
      ]
     },
     "execution_count": 450,
     "metadata": {},
     "output_type": "execute_result"
    }
   ],
   "source": [
    "df['Size']==3"
   ]
  },
  {
   "cell_type": "code",
   "execution_count": 451,
   "metadata": {},
   "outputs": [
    {
     "data": {
      "text/plain": [
       "<matplotlib.axes._subplots.AxesSubplot at 0x18e84853948>"
      ]
     },
     "execution_count": 451,
     "metadata": {},
     "output_type": "execute_result"
    },
    {
     "data": {
      "image/png": "[encoded data removed]",
      "text/plain": [
       "<Figure size 432x288 with 1 Axes>"
      ]
     },
     "metadata": {
      "needs_background": "light"
     },
     "output_type": "display_data"
    }
   ],
   "source": [
    "df['Size'].hist(bins=10)"
   ]
  },
  {
   "cell_type": "code",
   "execution_count": 458,
   "metadata": {},
   "outputs": [
    {
     "data": {
      "text/plain": [
       "<matplotlib.axes._subplots.AxesSubplot at 0x18e8178c908>"
      ]
     },
     "execution_count": 458,
     "metadata": {},
     "output_type": "execute_result"
    },
    {
     "data": {
      "image/png": "[encoded data removed]",
      "text/plain": [
       "<Figure size 432x288 with 1 Axes>"
      ]
     },
     "metadata": {
      "needs_background": "light"
     },
     "output_type": "display_data"
    }
   ],
   "source": [
    "#Dummy Variables Age when rescue\n",
    "df['Age Group When Rescued'].value_counts().hist()"
   ]
  },
  {
   "cell_type": "code",
   "execution_count": 459,
   "metadata": {},
   "outputs": [],
   "source": [
    "#Dummy variables size\n",
    "def dummy_variables_age(size):\n",
    "    if size==\"Young\":\n",
    "        return 0\n",
    "    elif size=='Adult':\n",
    "        return 1\n",
    "    elif size=='Puppy':\n",
    "        return 2\n",
    "    elif size=='Senior':\n",
    "        return 3\n",
    "    \n",
    "df['Age Group When Rescued']=df['Age Group When Rescued'].apply(dummy_variables_age)\n",
    "df['Age Group When Rescued']=pd.to_numeric(df['Age Group When Rescued'])"
   ]
  },
  {
   "cell_type": "code",
   "execution_count": 460,
   "metadata": {},
   "outputs": [
    {
     "data": {
      "text/html": [
       "<div>\n",
       "<style scoped>\n",
       "    .dataframe tbody tr th:only-of-type {\n",
       "        vertical-align: middle;\n",
       "    }\n",
       "\n",
       "    .dataframe tbody tr th {\n",
       "        vertical-align: top;\n",
       "    }\n",
       "\n",
       "    .dataframe thead th {\n",
       "        text-align: right;\n",
       "    }\n",
       "</style>\n",
       "<table border=\"1\" class=\"dataframe\">\n",
       "  <thead>\n",
       "    <tr style=\"text-align: right;\">\n",
       "      <th></th>\n",
       "      <th>Days in Rescue</th>\n",
       "      <th>Sex</th>\n",
       "      <th>Age Group When Rescued</th>\n",
       "      <th>Size</th>\n",
       "    </tr>\n",
       "  </thead>\n",
       "  <tbody>\n",
       "    <tr>\n",
       "      <th>Days in Rescue</th>\n",
       "      <td>1.000000</td>\n",
       "      <td>-0.017461</td>\n",
       "      <td>0.125791</td>\n",
       "      <td>0.055090</td>\n",
       "    </tr>\n",
       "    <tr>\n",
       "      <th>Sex</th>\n",
       "      <td>-0.017461</td>\n",
       "      <td>1.000000</td>\n",
       "      <td>0.016253</td>\n",
       "      <td>-0.036620</td>\n",
       "    </tr>\n",
       "    <tr>\n",
       "      <th>Age Group When Rescued</th>\n",
       "      <td>0.125791</td>\n",
       "      <td>0.016253</td>\n",
       "      <td>1.000000</td>\n",
       "      <td>0.010891</td>\n",
       "    </tr>\n",
       "    <tr>\n",
       "      <th>Size</th>\n",
       "      <td>0.055090</td>\n",
       "      <td>-0.036620</td>\n",
       "      <td>0.010891</td>\n",
       "      <td>1.000000</td>\n",
       "    </tr>\n",
       "  </tbody>\n",
       "</table>\n",
       "</div>"
      ],
      "text/plain": [
       "                        Days in Rescue       Sex  Age Group When Rescued  \\\n",
       "Days in Rescue                1.000000 -0.017461                0.125791   \n",
       "Sex                          -0.017461  1.000000                0.016253   \n",
       "Age Group When Rescued        0.125791  0.016253                1.000000   \n",
       "Size                          0.055090 -0.036620                0.010891   \n",
       "\n",
       "                            Size  \n",
       "Days in Rescue          0.055090  \n",
       "Sex                    -0.036620  \n",
       "Age Group When Rescued  0.010891  \n",
       "Size                    1.000000  "
      ]
     },
     "execution_count": 460,
     "metadata": {},
     "output_type": "execute_result"
    }
   ],
   "source": [
    "df.corr()"
   ]
  },
  {
   "cell_type": "code",
   "execution_count": 461,
   "metadata": {},
   "outputs": [
    {
     "data": {
      "text/plain": [
       "<matplotlib.axes._subplots.AxesSubplot at 0x18e840c7948>"
      ]
     },
     "execution_count": 461,
     "metadata": {},
     "output_type": "execute_result"
    },
    {
     "data": {
      "image/png": "[encoded data removed]",
      "text/plain": [
       "<Figure size 432x288 with 2 Axes>"
      ]
     },
     "metadata": {
      "needs_background": "light"
     },
     "output_type": "display_data"
    }
   ],
   "source": [
    "sns.heatmap(data=df.corr(), cmap='coolwarm', annot=True)"
   ]
  },
  {
   "cell_type": "code",
   "execution_count": 455,
   "metadata": {},
   "outputs": [
    {
     "data": {
      "text/html": [
       "<div>\n",
       "<style scoped>\n",
       "    .dataframe tbody tr th:only-of-type {\n",
       "        vertical-align: middle;\n",
       "    }\n",
       "\n",
       "    .dataframe tbody tr th {\n",
       "        vertical-align: top;\n",
       "    }\n",
       "\n",
       "    .dataframe thead th {\n",
       "        text-align: right;\n",
       "    }\n",
       "</style>\n",
       "<table border=\"1\" class=\"dataframe\">\n",
       "  <thead>\n",
       "    <tr style=\"text-align: right;\">\n",
       "      <th></th>\n",
       "      <th>Days in Rescue</th>\n",
       "      <th>Sex</th>\n",
       "      <th>Size</th>\n",
       "    </tr>\n",
       "  </thead>\n",
       "  <tbody>\n",
       "    <tr>\n",
       "      <th>count</th>\n",
       "      <td>2898.000000</td>\n",
       "      <td>4233.000000</td>\n",
       "      <td>4128.000000</td>\n",
       "    </tr>\n",
       "    <tr>\n",
       "      <th>mean</th>\n",
       "      <td>35.389924</td>\n",
       "      <td>0.503898</td>\n",
       "      <td>0.819283</td>\n",
       "    </tr>\n",
       "    <tr>\n",
       "      <th>std</th>\n",
       "      <td>26.605917</td>\n",
       "      <td>0.500044</td>\n",
       "      <td>0.618585</td>\n",
       "    </tr>\n",
       "    <tr>\n",
       "      <th>min</th>\n",
       "      <td>0.000000</td>\n",
       "      <td>0.000000</td>\n",
       "      <td>0.000000</td>\n",
       "    </tr>\n",
       "    <tr>\n",
       "      <th>25%</th>\n",
       "      <td>15.000000</td>\n",
       "      <td>0.000000</td>\n",
       "      <td>0.000000</td>\n",
       "    </tr>\n",
       "    <tr>\n",
       "      <th>50%</th>\n",
       "      <td>28.000000</td>\n",
       "      <td>1.000000</td>\n",
       "      <td>1.000000</td>\n",
       "    </tr>\n",
       "    <tr>\n",
       "      <th>75%</th>\n",
       "      <td>52.000000</td>\n",
       "      <td>1.000000</td>\n",
       "      <td>1.000000</td>\n",
       "    </tr>\n",
       "    <tr>\n",
       "      <th>max</th>\n",
       "      <td>126.000000</td>\n",
       "      <td>1.000000</td>\n",
       "      <td>3.000000</td>\n",
       "    </tr>\n",
       "  </tbody>\n",
       "</table>\n",
       "</div>"
      ],
      "text/plain": [
       "       Days in Rescue          Sex         Size\n",
       "count     2898.000000  4233.000000  4128.000000\n",
       "mean        35.389924     0.503898     0.819283\n",
       "std         26.605917     0.500044     0.618585\n",
       "min          0.000000     0.000000     0.000000\n",
       "25%         15.000000     0.000000     0.000000\n",
       "50%         28.000000     1.000000     1.000000\n",
       "75%         52.000000     1.000000     1.000000\n",
       "max        126.000000     1.000000     3.000000"
      ]
     },
     "execution_count": 455,
     "metadata": {},
     "output_type": "execute_result"
    }
   ],
   "source": [
    "df.describe()"
   ]
  },
  {
   "cell_type": "code",
   "execution_count": 457,
   "metadata": {},
   "outputs": [
    {
     "data": {
      "text/plain": [
       "<seaborn.axisgrid.PairGrid at 0x18e81d55188>"
      ]
     },
     "execution_count": 457,
     "metadata": {},
     "output_type": "execute_result"
    },
    {
     "data": {
      "image/png": "[encoded data removed]",
      "text/plain": [
       "<Figure size 540x540 with 12 Axes>"
      ]
     },
     "metadata": {
      "needs_background": "light"
     },
     "output_type": "display_data"
    }
   ],
   "source": [
    "sns.pairplot(data=df)"
   ]
  },
  {
   "cell_type": "code",
   "execution_count": null,
   "metadata": {},
   "outputs": [],
   "source": []
  }
 ],
 "metadata": {
  "kernelspec": {
   "display_name": "Python 3.7.1 64-bit ('base': conda)",
   "language": "python",
   "name": "python37164bitbaseconda820b29c32fab41ac933726cb703aa4f4"
  },
  "language_info": {
   "codemirror_mode": {
    "name": "ipython",
    "version": 3
   },
   "file_extension": ".py",
   "mimetype": "text/x-python",
   "name": "python",
   "nbconvert_exporter": "python",
   "pygments_lexer": "ipython3",
   "version": "3.7.6"
  }
 },
 "nbformat": 4,
 "nbformat_minor": 4
}
