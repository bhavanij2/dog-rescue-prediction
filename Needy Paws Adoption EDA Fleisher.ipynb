{
 "cells": [
  {
   "cell_type": "markdown",
   "metadata": {},
   "source": [
    "## Needy Paws Adoption Exploratory Data Analysis"
   ]
  },
  {
   "cell_type": "code",
   "execution_count": 1,
   "metadata": {},
   "outputs": [
    {
     "data": {
      "text/html": [
       "<div>\n",
       "<style scoped>\n",
       "    .dataframe tbody tr th:only-of-type {\n",
       "        vertical-align: middle;\n",
       "    }\n",
       "\n",
       "    .dataframe tbody tr th {\n",
       "        vertical-align: top;\n",
       "    }\n",
       "\n",
       "    .dataframe thead th {\n",
       "        text-align: right;\n",
       "    }\n",
       "</style>\n",
       "<table border=\"1\" class=\"dataframe\">\n",
       "  <thead>\n",
       "    <tr style=\"text-align: right;\">\n",
       "      <th></th>\n",
       "      <th>Name of Dog</th>\n",
       "      <th>Days in Rescue</th>\n",
       "      <th>Heartworm Positive</th>\n",
       "      <th>Breed</th>\n",
       "      <th>Sex</th>\n",
       "      <th>Age Group When Rescued</th>\n",
       "      <th>Color</th>\n",
       "      <th>Size</th>\n",
       "    </tr>\n",
       "  </thead>\n",
       "  <tbody>\n",
       "    <tr>\n",
       "      <td>0</td>\n",
       "      <td>Aaron</td>\n",
       "      <td>30</td>\n",
       "      <td>N</td>\n",
       "      <td>Labrador</td>\n",
       "      <td>M</td>\n",
       "      <td>Young</td>\n",
       "      <td>Yellow</td>\n",
       "      <td>Medium</td>\n",
       "    </tr>\n",
       "    <tr>\n",
       "      <td>1</td>\n",
       "      <td>Abby</td>\n",
       "      <td>11</td>\n",
       "      <td>N</td>\n",
       "      <td>Dachshund</td>\n",
       "      <td>F</td>\n",
       "      <td>Adult</td>\n",
       "      <td>Tan</td>\n",
       "      <td>Small</td>\n",
       "    </tr>\n",
       "    <tr>\n",
       "      <td>2</td>\n",
       "      <td>Abby</td>\n",
       "      <td>31</td>\n",
       "      <td>N</td>\n",
       "      <td>Unknown</td>\n",
       "      <td>F</td>\n",
       "      <td>Adult</td>\n",
       "      <td>Brindle</td>\n",
       "      <td>Medium</td>\n",
       "    </tr>\n",
       "    <tr>\n",
       "      <td>3</td>\n",
       "      <td>Abby</td>\n",
       "      <td>47</td>\n",
       "      <td>N</td>\n",
       "      <td>Mixed Breed (Non-Pitbull)</td>\n",
       "      <td>F</td>\n",
       "      <td>Puppy</td>\n",
       "      <td>Multicolor</td>\n",
       "      <td>Medium</td>\n",
       "    </tr>\n",
       "    <tr>\n",
       "      <td>4</td>\n",
       "      <td>Abby</td>\n",
       "      <td>83</td>\n",
       "      <td>N</td>\n",
       "      <td>Chihuahua</td>\n",
       "      <td>F</td>\n",
       "      <td>Adult</td>\n",
       "      <td>Tan</td>\n",
       "      <td>Small</td>\n",
       "    </tr>\n",
       "  </tbody>\n",
       "</table>\n",
       "</div>"
      ],
      "text/plain": [
       "  Name of Dog  Days in Rescue Heartworm Positive                      Breed  \\\n",
       "0       Aaron              30                  N                   Labrador   \n",
       "1        Abby              11                  N                  Dachshund   \n",
       "2        Abby              31                  N                    Unknown   \n",
       "3        Abby              47                  N  Mixed Breed (Non-Pitbull)   \n",
       "4        Abby              83                  N                  Chihuahua   \n",
       "\n",
       "  Sex Age Group When Rescued       Color    Size  \n",
       "0   M                  Young      Yellow  Medium  \n",
       "1   F                  Adult         Tan   Small  \n",
       "2   F                  Adult     Brindle  Medium  \n",
       "3   F                  Puppy  Multicolor  Medium  \n",
       "4   F                  Adult         Tan   Small  "
      ]
     },
     "execution_count": 1,
     "metadata": {},
     "output_type": "execute_result"
    }
   ],
   "source": [
    "import pandas as pd  \n",
    "import numpy as np  \n",
    "import matplotlib.pyplot as plt  \n",
    "import seaborn as sns\n",
    "from scipy import stats\n",
    "%matplotlib inline\n",
    "\n",
    "dogs = pd.read_excel('/Users/admin/Desktop/CoderGirl/gringotts-mf/NeedyPawsMaster.xlsx', sep=\",\")\n",
    "dogs.head()"
   ]
  },
  {
   "cell_type": "code",
   "execution_count": 2,
   "metadata": {},
   "outputs": [
    {
     "data": {
      "text/plain": [
       "(3088, 8)"
      ]
     },
     "execution_count": 2,
     "metadata": {},
     "output_type": "execute_result"
    }
   ],
   "source": [
    "dogs.shape"
   ]
  },
  {
   "cell_type": "code",
   "execution_count": 3,
   "metadata": {},
   "outputs": [
    {
     "data": {
      "text/plain": [
       "Index(['Name of Dog', 'Days in Rescue', 'Heartworm Positive', 'Breed', 'Sex',\n",
       "       'Age Group When Rescued', 'Color', 'Size'],\n",
       "      dtype='object')"
      ]
     },
     "execution_count": 3,
     "metadata": {},
     "output_type": "execute_result"
    }
   ],
   "source": [
    "dogs.columns"
   ]
  },
  {
   "cell_type": "code",
   "execution_count": 4,
   "metadata": {},
   "outputs": [
    {
     "data": {
      "text/plain": [
       "Name of Dog               object\n",
       "Days in Rescue             int64\n",
       "Heartworm Positive        object\n",
       "Breed                     object\n",
       "Sex                       object\n",
       "Age Group When Rescued    object\n",
       "Color                     object\n",
       "Size                      object\n",
       "dtype: object"
      ]
     },
     "execution_count": 4,
     "metadata": {},
     "output_type": "execute_result"
    }
   ],
   "source": [
    "dogs.dtypes"
   ]
  },
  {
   "cell_type": "code",
   "execution_count": 5,
   "metadata": {},
   "outputs": [
    {
     "data": {
      "text/plain": [
       "Multicolor    1810\n",
       "Black          364\n",
       "Tan            232\n",
       "Brown          194\n",
       "White          173\n",
       "Brindle        125\n",
       "Yellow          71\n",
       "Red             59\n",
       "Gray            26\n",
       "Blue            21\n",
       "Merle            8\n",
       "Name: Color, dtype: int64"
      ]
     },
     "execution_count": 5,
     "metadata": {},
     "output_type": "execute_result"
    }
   ],
   "source": [
    "dogs['Color'].value_counts()"
   ]
  },
  {
   "cell_type": "code",
   "execution_count": 6,
   "metadata": {},
   "outputs": [
    {
     "data": {
      "text/plain": [
       "M    1549\n",
       "F    1539\n",
       "Name: Sex, dtype: int64"
      ]
     },
     "execution_count": 6,
     "metadata": {},
     "output_type": "execute_result"
    }
   ],
   "source": [
    "dogs['Sex'].value_counts()"
   ]
  },
  {
   "cell_type": "code",
   "execution_count": 7,
   "metadata": {},
   "outputs": [
    {
     "data": {
      "text/plain": [
       "Mixed Breed (Non-Pitbull)    398\n",
       "Pitbull                      390\n",
       "Labrador                     308\n",
       "Chihuahua                    242\n",
       "Mixed Breed (Pitbull)        218\n",
       "Beagle                       140\n",
       "MIxed Breed (Non-Pitbull)    111\n",
       "Terrier                      106\n",
       "Shepherd                     100\n",
       "Boxer                         80\n",
       "Name: Breed, dtype: int64"
      ]
     },
     "execution_count": 7,
     "metadata": {},
     "output_type": "execute_result"
    }
   ],
   "source": [
    "dogs['Breed'].value_counts().head(10)"
   ]
  },
  {
   "cell_type": "code",
   "execution_count": 8,
   "metadata": {},
   "outputs": [
    {
     "name": "stdout",
     "output_type": "stream",
     "text": [
      "         Days in Rescue\n",
      "Size                   \n",
      "Large         51.838006\n",
      "Medium        52.218082\n",
      "Small         37.161008\n",
      "X Large       29.600000\n"
     ]
    }
   ],
   "source": [
    "df = dogs.groupby(['Size']).mean()\n",
    "print(df)"
   ]
  },
  {
   "cell_type": "code",
   "execution_count": 9,
   "metadata": {},
   "outputs": [
    {
     "name": "stdout",
     "output_type": "stream",
     "text": [
      "     Days in Rescue\n",
      "Sex                \n",
      "F         49.447044\n",
      "M         45.923822\n"
     ]
    }
   ],
   "source": [
    "df = dogs.groupby(['Sex']).mean()\n",
    "print(df)"
   ]
  },
  {
   "cell_type": "code",
   "execution_count": 10,
   "metadata": {},
   "outputs": [
    {
     "name": "stdout",
     "output_type": "stream",
     "text": [
      "            Days in Rescue\n",
      "Color                     \n",
      "Black            49.788462\n",
      "Blue             72.619048\n",
      "Brindle          49.408000\n",
      "Brown            46.979381\n",
      "Gray             31.153846\n",
      "Merle            52.000000\n",
      "Multicolor       46.606630\n",
      "Red              44.169492\n",
      "Tan              48.370690\n",
      "White            60.023121\n",
      "Yellow           32.436620\n"
     ]
    }
   ],
   "source": [
    "df = dogs.groupby(['Color']).mean()\n",
    "print(df)"
   ]
  },
  {
   "cell_type": "code",
   "execution_count": 11,
   "metadata": {},
   "outputs": [
    {
     "data": {
      "text/html": [
       "<div>\n",
       "<style scoped>\n",
       "    .dataframe tbody tr th:only-of-type {\n",
       "        vertical-align: middle;\n",
       "    }\n",
       "\n",
       "    .dataframe tbody tr th {\n",
       "        vertical-align: top;\n",
       "    }\n",
       "\n",
       "    .dataframe thead th {\n",
       "        text-align: right;\n",
       "    }\n",
       "</style>\n",
       "<table border=\"1\" class=\"dataframe\">\n",
       "  <thead>\n",
       "    <tr style=\"text-align: right;\">\n",
       "      <th></th>\n",
       "      <th>Name of Dog</th>\n",
       "      <th>Days in Rescue</th>\n",
       "      <th>Heartworm Positive</th>\n",
       "      <th>Breed</th>\n",
       "      <th>Sex</th>\n",
       "      <th>Age Group When Rescued</th>\n",
       "      <th>Color</th>\n",
       "      <th>Size</th>\n",
       "    </tr>\n",
       "  </thead>\n",
       "  <tbody>\n",
       "    <tr>\n",
       "      <td>count</td>\n",
       "      <td>3088</td>\n",
       "      <td>3088.000000</td>\n",
       "      <td>3088</td>\n",
       "      <td>3088</td>\n",
       "      <td>3088</td>\n",
       "      <td>3033</td>\n",
       "      <td>3083</td>\n",
       "      <td>3069</td>\n",
       "    </tr>\n",
       "    <tr>\n",
       "      <td>unique</td>\n",
       "      <td>2167</td>\n",
       "      <td>NaN</td>\n",
       "      <td>3</td>\n",
       "      <td>103</td>\n",
       "      <td>2</td>\n",
       "      <td>5</td>\n",
       "      <td>11</td>\n",
       "      <td>4</td>\n",
       "    </tr>\n",
       "    <tr>\n",
       "      <td>top</td>\n",
       "      <td>Molly</td>\n",
       "      <td>NaN</td>\n",
       "      <td>N</td>\n",
       "      <td>Mixed Breed (Non-Pitbull)</td>\n",
       "      <td>M</td>\n",
       "      <td>Puppy</td>\n",
       "      <td>Multicolor</td>\n",
       "      <td>Medium</td>\n",
       "    </tr>\n",
       "    <tr>\n",
       "      <td>freq</td>\n",
       "      <td>9</td>\n",
       "      <td>NaN</td>\n",
       "      <td>2996</td>\n",
       "      <td>398</td>\n",
       "      <td>1549</td>\n",
       "      <td>1313</td>\n",
       "      <td>1810</td>\n",
       "      <td>1825</td>\n",
       "    </tr>\n",
       "    <tr>\n",
       "      <td>mean</td>\n",
       "      <td>NaN</td>\n",
       "      <td>47.679728</td>\n",
       "      <td>NaN</td>\n",
       "      <td>NaN</td>\n",
       "      <td>NaN</td>\n",
       "      <td>NaN</td>\n",
       "      <td>NaN</td>\n",
       "      <td>NaN</td>\n",
       "    </tr>\n",
       "    <tr>\n",
       "      <td>std</td>\n",
       "      <td>NaN</td>\n",
       "      <td>62.371584</td>\n",
       "      <td>NaN</td>\n",
       "      <td>NaN</td>\n",
       "      <td>NaN</td>\n",
       "      <td>NaN</td>\n",
       "      <td>NaN</td>\n",
       "      <td>NaN</td>\n",
       "    </tr>\n",
       "    <tr>\n",
       "      <td>min</td>\n",
       "      <td>NaN</td>\n",
       "      <td>0.000000</td>\n",
       "      <td>NaN</td>\n",
       "      <td>NaN</td>\n",
       "      <td>NaN</td>\n",
       "      <td>NaN</td>\n",
       "      <td>NaN</td>\n",
       "      <td>NaN</td>\n",
       "    </tr>\n",
       "    <tr>\n",
       "      <td>25%</td>\n",
       "      <td>NaN</td>\n",
       "      <td>16.000000</td>\n",
       "      <td>NaN</td>\n",
       "      <td>NaN</td>\n",
       "      <td>NaN</td>\n",
       "      <td>NaN</td>\n",
       "      <td>NaN</td>\n",
       "      <td>NaN</td>\n",
       "    </tr>\n",
       "    <tr>\n",
       "      <td>50%</td>\n",
       "      <td>NaN</td>\n",
       "      <td>29.000000</td>\n",
       "      <td>NaN</td>\n",
       "      <td>NaN</td>\n",
       "      <td>NaN</td>\n",
       "      <td>NaN</td>\n",
       "      <td>NaN</td>\n",
       "      <td>NaN</td>\n",
       "    </tr>\n",
       "    <tr>\n",
       "      <td>75%</td>\n",
       "      <td>NaN</td>\n",
       "      <td>60.000000</td>\n",
       "      <td>NaN</td>\n",
       "      <td>NaN</td>\n",
       "      <td>NaN</td>\n",
       "      <td>NaN</td>\n",
       "      <td>NaN</td>\n",
       "      <td>NaN</td>\n",
       "    </tr>\n",
       "    <tr>\n",
       "      <td>max</td>\n",
       "      <td>NaN</td>\n",
       "      <td>812.000000</td>\n",
       "      <td>NaN</td>\n",
       "      <td>NaN</td>\n",
       "      <td>NaN</td>\n",
       "      <td>NaN</td>\n",
       "      <td>NaN</td>\n",
       "      <td>NaN</td>\n",
       "    </tr>\n",
       "  </tbody>\n",
       "</table>\n",
       "</div>"
      ],
      "text/plain": [
       "       Name of Dog  Days in Rescue Heartworm Positive  \\\n",
       "count         3088     3088.000000               3088   \n",
       "unique        2167             NaN                  3   \n",
       "top          Molly             NaN                  N   \n",
       "freq             9             NaN               2996   \n",
       "mean           NaN       47.679728                NaN   \n",
       "std            NaN       62.371584                NaN   \n",
       "min            NaN        0.000000                NaN   \n",
       "25%            NaN       16.000000                NaN   \n",
       "50%            NaN       29.000000                NaN   \n",
       "75%            NaN       60.000000                NaN   \n",
       "max            NaN      812.000000                NaN   \n",
       "\n",
       "                            Breed   Sex Age Group When Rescued       Color  \\\n",
       "count                        3088  3088                   3033        3083   \n",
       "unique                        103     2                      5          11   \n",
       "top     Mixed Breed (Non-Pitbull)     M                  Puppy  Multicolor   \n",
       "freq                          398  1549                   1313        1810   \n",
       "mean                          NaN   NaN                    NaN         NaN   \n",
       "std                           NaN   NaN                    NaN         NaN   \n",
       "min                           NaN   NaN                    NaN         NaN   \n",
       "25%                           NaN   NaN                    NaN         NaN   \n",
       "50%                           NaN   NaN                    NaN         NaN   \n",
       "75%                           NaN   NaN                    NaN         NaN   \n",
       "max                           NaN   NaN                    NaN         NaN   \n",
       "\n",
       "          Size  \n",
       "count     3069  \n",
       "unique       4  \n",
       "top     Medium  \n",
       "freq      1825  \n",
       "mean       NaN  \n",
       "std        NaN  \n",
       "min        NaN  \n",
       "25%        NaN  \n",
       "50%        NaN  \n",
       "75%        NaN  \n",
       "max        NaN  "
      ]
     },
     "execution_count": 11,
     "metadata": {},
     "output_type": "execute_result"
    }
   ],
   "source": [
    "dogs.describe(include = \"all\")"
   ]
  },
  {
   "cell_type": "code",
   "execution_count": 12,
   "metadata": {},
   "outputs": [
    {
     "data": {
      "text/plain": [
       "[(0, 875.4515239679351)]"
      ]
     },
     "execution_count": 12,
     "metadata": {},
     "output_type": "execute_result"
    },
    {
     "data": {
      "image/png": "[encoded data removed]",
      "text/plain": [
       "<Figure size 432x288 with 1 Axes>"
      ]
     },
     "metadata": {
      "needs_background": "light"
     },
     "output_type": "display_data"
    }
   ],
   "source": [
    "plt.figure()\n",
    "plt.tight_layout()\n",
    "sns.distplot(dogs['Days in Rescue']).set(xlim=0)"
   ]
  },
  {
   "cell_type": "code",
   "execution_count": 13,
   "metadata": {},
   "outputs": [
    {
     "data": {
      "image/png": "[encoded data removed]",
      "text/plain": [
       "<Figure size 360x360 with 1 Axes>"
      ]
     },
     "metadata": {
      "needs_background": "light"
     },
     "output_type": "display_data"
    }
   ],
   "source": [
    "sns.catplot(x=\"Size\", y=\"Days in Rescue\", kind=\"box\", data=dogs);"
   ]
  },
  {
   "cell_type": "code",
   "execution_count": 14,
   "metadata": {},
   "outputs": [
    {
     "data": {
      "text/plain": [
       "array([[<matplotlib.axes._subplots.AxesSubplot object at 0x1a1701f590>]],\n",
       "      dtype=object)"
      ]
     },
     "execution_count": 14,
     "metadata": {},
     "output_type": "execute_result"
    },
    {
     "data": {
      "image/png": "[encoded data removed]",
      "text/plain": [
       "<Figure size 432x288 with 1 Axes>"
      ]
     },
     "metadata": {
      "needs_background": "light"
     },
     "output_type": "display_data"
    }
   ],
   "source": [
    "#Identify outliers\n",
    "Q1 = dogs.quantile(0.25)\n",
    "Q3 = dogs.quantile(0.75)\n",
    "IQR = Q3 - Q1\n",
    "df1 = pd.DataFrame(dogs['Days in Rescue'])\n",
    "df1 = df1[~((df1 < (Q1 - 1.5 * IQR)) |(df1 > (Q3 + 1.5 * IQR))).any(axis=1)]\n",
    "df1.shape\n",
    "dogs = dogs.drop(['Days in Rescue'],axis=1)\n",
    "dogs = dogs.join(df1)\n",
    "dogs.hist()"
   ]
  },
  {
   "cell_type": "code",
   "execution_count": 15,
   "metadata": {},
   "outputs": [
    {
     "data": {
      "text/plain": [
       "(2898, 8)"
      ]
     },
     "execution_count": 15,
     "metadata": {},
     "output_type": "execute_result"
    }
   ],
   "source": [
    "#Drop outlier rows\n",
    "dogs = dogs.dropna(axis=0, subset=['Days in Rescue'])\n",
    "dogs.shape"
   ]
  },
  {
   "cell_type": "code",
   "execution_count": 16,
   "metadata": {},
   "outputs": [
    {
     "data": {
      "image/png": "[encoded data removed]",
      "text/plain": [
       "<Figure size 360x360 with 1 Axes>"
      ]
     },
     "metadata": {
      "needs_background": "light"
     },
     "output_type": "display_data"
    }
   ],
   "source": [
    "sns.catplot(x=\"Size\", y=\"Days in Rescue\", kind=\"box\", data=dogs);"
   ]
  },
  {
   "cell_type": "code",
   "execution_count": 17,
   "metadata": {},
   "outputs": [
    {
     "name": "stdout",
     "output_type": "stream",
     "text": [
      "         Days in Rescue\n",
      "Size                   \n",
      "Large         30.547945\n",
      "Medium        38.507665\n",
      "Small         30.603859\n",
      "X Large       29.600000\n"
     ]
    }
   ],
   "source": [
    "df = dogs.groupby(['Size']).mean()\n",
    "print(df)"
   ]
  },
  {
   "cell_type": "code",
   "execution_count": 18,
   "metadata": {},
   "outputs": [
    {
     "name": "stdout",
     "output_type": "stream",
     "text": [
      "     Days in Rescue\n",
      "Sex                \n",
      "F         34.919637\n",
      "M         35.848671\n"
     ]
    }
   ],
   "source": [
    "df = dogs.groupby(['Sex']).mean()\n",
    "print(df)"
   ]
  },
  {
   "cell_type": "code",
   "execution_count": 19,
   "metadata": {},
   "outputs": [
    {
     "data": {
      "text/plain": [
       "[(0, 151.17854238311787)]"
      ]
     },
     "execution_count": 19,
     "metadata": {},
     "output_type": "execute_result"
    },
    {
     "data": {
      "image/png": "[encoded data removed]",
      "text/plain": [
       "<Figure size 432x288 with 1 Axes>"
      ]
     },
     "metadata": {
      "needs_background": "light"
     },
     "output_type": "display_data"
    }
   ],
   "source": [
    "plt.figure()\n",
    "plt.tight_layout()\n",
    "sns.distplot(dogs['Days in Rescue']).set(xlim=0)"
   ]
  },
  {
   "cell_type": "code",
   "execution_count": 20,
   "metadata": {},
   "outputs": [],
   "source": [
    "# One-hot encoding\n",
    "#dogs['Breed2'] = dogs['Breed']\n",
    "#dogs = pd.get_dummies(dogs, columns=['Breed2'], prefix=['Breed'])\n",
    "\n",
    "#dogs['HW2'] = dogs['Heartworm Positive']\n",
    "#dogs = pd.get_dummies(dogs, columns=['HW2'], prefix=['Heartworm Positive'])\n",
    "\n",
    "#dogs['Sex2'] = dogs['Sex']\n",
    "#dogs = pd.get_dummies(dogs, columns=['Sex2'], prefix=['Sex'])\n",
    "\n",
    "#dogs['Age Group When Rescued 2'] = dogs['Age Group When Rescued']\n",
    "#dogs = pd.get_dummies(dogs, columns=['Age Group When Rescued 2'], prefix=['Age Group When Rescued'])\n",
    "\n",
    "#dogs['Size2'] = dogs['Size']\n",
    "#dogs = pd.get_dummies(dogs, columns=['Size2'], prefix=['Size'])\n",
    "\n"
   ]
  },
  {
   "cell_type": "code",
   "execution_count": null,
   "metadata": {},
   "outputs": [],
   "source": []
  },
  {
   "cell_type": "code",
   "execution_count": null,
   "metadata": {},
   "outputs": [],
   "source": []
  }
 ],
 "metadata": {
  "kernelspec": {
   "display_name": "Python 3",
   "language": "python",
   "name": "python3"
  },
  "language_info": {
   "codemirror_mode": {
    "name": "ipython",
    "version": 3
   },
   "file_extension": ".py",
   "mimetype": "text/x-python",
   "name": "python",
   "nbconvert_exporter": "python",
   "pygments_lexer": "ipython3",
   "version": "3.7.4"
  }
 },
 "nbformat": 4,
 "nbformat_minor": 2
}
