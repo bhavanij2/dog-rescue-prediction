{
 "cells": [
  {
   "cell_type": "markdown",
   "metadata": {},
   "source": [
    "## Needy Paws Adoption Data Model"
   ]
  },
  {
   "cell_type": "code",
   "execution_count": 3,
   "metadata": {},
   "outputs": [
    {
     "data": {
      "text/html": [
       "<div>\n",
       "<style scoped>\n",
       "    .dataframe tbody tr th:only-of-type {\n",
       "        vertical-align: middle;\n",
       "    }\n",
       "\n",
       "    .dataframe tbody tr th {\n",
       "        vertical-align: top;\n",
       "    }\n",
       "\n",
       "    .dataframe thead th {\n",
       "        text-align: right;\n",
       "    }\n",
       "</style>\n",
       "<table border=\"1\" class=\"dataframe\">\n",
       "  <thead>\n",
       "    <tr style=\"text-align: right;\">\n",
       "      <th></th>\n",
       "      <th>Name of Dog</th>\n",
       "      <th>Days in Rescue</th>\n",
       "      <th>Heartworm Positive</th>\n",
       "      <th>Breed</th>\n",
       "      <th>Sex</th>\n",
       "      <th>Age Group When Rescued</th>\n",
       "      <th>Color</th>\n",
       "      <th>Size</th>\n",
       "    </tr>\n",
       "  </thead>\n",
       "  <tbody>\n",
       "    <tr>\n",
       "      <td>0</td>\n",
       "      <td>Aaron</td>\n",
       "      <td>30</td>\n",
       "      <td>N</td>\n",
       "      <td>Labrador</td>\n",
       "      <td>M</td>\n",
       "      <td>Young</td>\n",
       "      <td>Yellow</td>\n",
       "      <td>Medium</td>\n",
       "    </tr>\n",
       "    <tr>\n",
       "      <td>1</td>\n",
       "      <td>Abby</td>\n",
       "      <td>11</td>\n",
       "      <td>N</td>\n",
       "      <td>Dachshund</td>\n",
       "      <td>F</td>\n",
       "      <td>Adult</td>\n",
       "      <td>Tan</td>\n",
       "      <td>Small</td>\n",
       "    </tr>\n",
       "    <tr>\n",
       "      <td>2</td>\n",
       "      <td>Abby</td>\n",
       "      <td>31</td>\n",
       "      <td>N</td>\n",
       "      <td>Unknown</td>\n",
       "      <td>F</td>\n",
       "      <td>Adult</td>\n",
       "      <td>Brindle</td>\n",
       "      <td>Medium</td>\n",
       "    </tr>\n",
       "    <tr>\n",
       "      <td>3</td>\n",
       "      <td>Abby</td>\n",
       "      <td>47</td>\n",
       "      <td>N</td>\n",
       "      <td>Mixed Breed (Non-Pitbull)</td>\n",
       "      <td>F</td>\n",
       "      <td>Puppy</td>\n",
       "      <td>Multicolor</td>\n",
       "      <td>Medium</td>\n",
       "    </tr>\n",
       "    <tr>\n",
       "      <td>4</td>\n",
       "      <td>Abby</td>\n",
       "      <td>83</td>\n",
       "      <td>N</td>\n",
       "      <td>Chihuahua</td>\n",
       "      <td>F</td>\n",
       "      <td>Adult</td>\n",
       "      <td>Tan</td>\n",
       "      <td>Small</td>\n",
       "    </tr>\n",
       "  </tbody>\n",
       "</table>\n",
       "</div>"
      ],
      "text/plain": [
       "  Name of Dog  Days in Rescue Heartworm Positive                      Breed  \\\n",
       "0       Aaron              30                  N                   Labrador   \n",
       "1        Abby              11                  N                  Dachshund   \n",
       "2        Abby              31                  N                    Unknown   \n",
       "3        Abby              47                  N  Mixed Breed (Non-Pitbull)   \n",
       "4        Abby              83                  N                  Chihuahua   \n",
       "\n",
       "  Sex Age Group When Rescued       Color    Size  \n",
       "0   M                  Young      Yellow  Medium  \n",
       "1   F                  Adult         Tan   Small  \n",
       "2   F                  Adult     Brindle  Medium  \n",
       "3   F                  Puppy  Multicolor  Medium  \n",
       "4   F                  Adult         Tan   Small  "
      ]
     },
     "execution_count": 3,
     "metadata": {},
     "output_type": "execute_result"
    }
   ],
   "source": [
    "import pandas as pd  \n",
    "import numpy as np  \n",
    "import matplotlib.pyplot as plt  \n",
    "import seaborn as sns\n",
    "from scipy import stats\n",
    "%matplotlib inline\n",
    "\n",
    "dogs = pd.read_excel('/Users/admin/Desktop/CoderGirl/gringotts-mf/NeedyPawsMaster.xlsx', sep=\",\")\n",
    "dogs.head()"
   ]
  },
  {
   "cell_type": "code",
   "execution_count": 2,
   "metadata": {},
   "outputs": [
    {
     "data": {
      "text/plain": [
       "(2898, 8)"
      ]
     },
     "execution_count": 2,
     "metadata": {},
     "output_type": "execute_result"
    }
   ],
   "source": [
    "#Identify outliers\n",
    "Q1 = dogs.quantile(0.25)\n",
    "Q3 = dogs.quantile(0.75)\n",
    "IQR = Q3 - Q1\n",
    "df1 = pd.DataFrame(dogs['Days in Rescue'])\n",
    "df1 = df1[~((df1 < (Q1 - 1.5 * IQR)) |(df1 > (Q3 + 1.5 * IQR))).any(axis=1)]\n",
    "df1.shape\n",
    "dogs = dogs.drop(['Days in Rescue'],axis=1)\n",
    "dogs = dogs.join(df1)\n",
    "\n",
    "#Drop outlier rows\n",
    "dogs = dogs.dropna(axis=0, subset=['Days in Rescue'])\n",
    "dogs.shape"
   ]
  },
  {
   "cell_type": "code",
   "execution_count": 4,
   "metadata": {},
   "outputs": [
    {
     "data": {
      "text/plain": [
       "(2898, 8)"
      ]
     },
     "execution_count": 4,
     "metadata": {},
     "output_type": "execute_result"
    }
   ],
   "source": [
    "#Identify outliers\n",
    "Q1 = dogs.quantile(0.25)\n",
    "Q3 = dogs.quantile(0.75)\n",
    "IQR = Q3 - Q1\n",
    "df1 = pd.DataFrame(dogs['Days in Rescue'])\n",
    "df1 = df1[~(df1 > (Q3 + 1.5 * IQR)).any(axis=1)]\n",
    "df1.shape\n",
    "dogs = dogs.drop(['Days in Rescue'],axis=1)\n",
    "dogs = dogs.join(df1)\n",
    "\n",
    "#Drop outlier rows\n",
    "dogs = dogs.dropna(axis=0, subset=['Days in Rescue'])\n",
    "dogs.shape"
   ]
  },
  {
   "cell_type": "code",
   "execution_count": 5,
   "metadata": {},
   "outputs": [
    {
     "data": {
      "text/plain": [
       "array([[<matplotlib.axes._subplots.AxesSubplot object at 0x1a1b020f50>]],\n",
       "      dtype=object)"
      ]
     },
     "execution_count": 5,
     "metadata": {},
     "output_type": "execute_result"
    },
    {
     "data": {
      "image/png": "[encoded data removed]",
      "text/plain": [
       "<Figure size 432x288 with 1 Axes>"
      ]
     },
     "metadata": {
      "needs_background": "light"
     },
     "output_type": "display_data"
    }
   ],
   "source": [
    "dogs.hist()"
   ]
  },
  {
   "cell_type": "code",
   "execution_count": 3,
   "metadata": {},
   "outputs": [
    {
     "data": {
      "text/html": [
       "<div>\n",
       "<style scoped>\n",
       "    .dataframe tbody tr th:only-of-type {\n",
       "        vertical-align: middle;\n",
       "    }\n",
       "\n",
       "    .dataframe tbody tr th {\n",
       "        vertical-align: top;\n",
       "    }\n",
       "\n",
       "    .dataframe thead th {\n",
       "        text-align: right;\n",
       "    }\n",
       "</style>\n",
       "<table border=\"1\" class=\"dataframe\">\n",
       "  <thead>\n",
       "    <tr style=\"text-align: right;\">\n",
       "      <th></th>\n",
       "      <th>Name of Dog</th>\n",
       "      <th>Heartworm Positive</th>\n",
       "      <th>Breed</th>\n",
       "      <th>Sex</th>\n",
       "      <th>Age Group When Rescued</th>\n",
       "      <th>Color</th>\n",
       "      <th>Size</th>\n",
       "      <th>Days in Rescue</th>\n",
       "    </tr>\n",
       "  </thead>\n",
       "  <tbody>\n",
       "    <tr>\n",
       "      <td>0</td>\n",
       "      <td>Aaron</td>\n",
       "      <td>N</td>\n",
       "      <td>Labrador</td>\n",
       "      <td>M</td>\n",
       "      <td>Young</td>\n",
       "      <td>Yellow</td>\n",
       "      <td>Medium</td>\n",
       "      <td>30.0</td>\n",
       "    </tr>\n",
       "    <tr>\n",
       "      <td>1</td>\n",
       "      <td>Abby</td>\n",
       "      <td>N</td>\n",
       "      <td>Dachshund</td>\n",
       "      <td>F</td>\n",
       "      <td>Adult</td>\n",
       "      <td>Tan</td>\n",
       "      <td>Small</td>\n",
       "      <td>11.0</td>\n",
       "    </tr>\n",
       "    <tr>\n",
       "      <td>2</td>\n",
       "      <td>Abby</td>\n",
       "      <td>N</td>\n",
       "      <td>Unknown</td>\n",
       "      <td>F</td>\n",
       "      <td>Adult</td>\n",
       "      <td>Brindle</td>\n",
       "      <td>Medium</td>\n",
       "      <td>31.0</td>\n",
       "    </tr>\n",
       "    <tr>\n",
       "      <td>3</td>\n",
       "      <td>Abby</td>\n",
       "      <td>N</td>\n",
       "      <td>Mixed Breed (Non-Pitbull)</td>\n",
       "      <td>F</td>\n",
       "      <td>Puppy</td>\n",
       "      <td>Multicolor</td>\n",
       "      <td>Medium</td>\n",
       "      <td>47.0</td>\n",
       "    </tr>\n",
       "    <tr>\n",
       "      <td>4</td>\n",
       "      <td>Abby</td>\n",
       "      <td>N</td>\n",
       "      <td>Chihuahua</td>\n",
       "      <td>F</td>\n",
       "      <td>Adult</td>\n",
       "      <td>Tan</td>\n",
       "      <td>Small</td>\n",
       "      <td>83.0</td>\n",
       "    </tr>\n",
       "  </tbody>\n",
       "</table>\n",
       "</div>"
      ],
      "text/plain": [
       "  Name of Dog Heartworm Positive                      Breed Sex  \\\n",
       "0       Aaron                  N                   Labrador   M   \n",
       "1        Abby                  N                  Dachshund   F   \n",
       "2        Abby                  N                    Unknown   F   \n",
       "3        Abby                  N  Mixed Breed (Non-Pitbull)   F   \n",
       "4        Abby                  N                  Chihuahua   F   \n",
       "\n",
       "  Age Group When Rescued       Color    Size  Days in Rescue  \n",
       "0                  Young      Yellow  Medium            30.0  \n",
       "1                  Adult         Tan   Small            11.0  \n",
       "2                  Adult     Brindle  Medium            31.0  \n",
       "3                  Puppy  Multicolor  Medium            47.0  \n",
       "4                  Adult         Tan   Small            83.0  "
      ]
     },
     "execution_count": 3,
     "metadata": {},
     "output_type": "execute_result"
    }
   ],
   "source": [
    "dogs.head(5)"
   ]
  },
  {
   "cell_type": "code",
   "execution_count": 6,
   "metadata": {},
   "outputs": [
    {
     "data": {
      "text/html": [
       "<div>\n",
       "<style scoped>\n",
       "    .dataframe tbody tr th:only-of-type {\n",
       "        vertical-align: middle;\n",
       "    }\n",
       "\n",
       "    .dataframe tbody tr th {\n",
       "        vertical-align: top;\n",
       "    }\n",
       "\n",
       "    .dataframe thead th {\n",
       "        text-align: right;\n",
       "    }\n",
       "</style>\n",
       "<table border=\"1\" class=\"dataframe\">\n",
       "  <thead>\n",
       "    <tr style=\"text-align: right;\">\n",
       "      <th></th>\n",
       "      <th>Heartworm Positive</th>\n",
       "      <th>Breed</th>\n",
       "      <th>Age Group When Rescued</th>\n",
       "      <th>Color</th>\n",
       "      <th>Size</th>\n",
       "      <th>Days in Rescue</th>\n",
       "    </tr>\n",
       "  </thead>\n",
       "  <tbody>\n",
       "    <tr>\n",
       "      <td>0</td>\n",
       "      <td>N</td>\n",
       "      <td>Labrador</td>\n",
       "      <td>Young</td>\n",
       "      <td>Yellow</td>\n",
       "      <td>Medium</td>\n",
       "      <td>30.0</td>\n",
       "    </tr>\n",
       "    <tr>\n",
       "      <td>1</td>\n",
       "      <td>N</td>\n",
       "      <td>Dachshund</td>\n",
       "      <td>Adult</td>\n",
       "      <td>Tan</td>\n",
       "      <td>Small</td>\n",
       "      <td>11.0</td>\n",
       "    </tr>\n",
       "    <tr>\n",
       "      <td>2</td>\n",
       "      <td>N</td>\n",
       "      <td>Unknown</td>\n",
       "      <td>Adult</td>\n",
       "      <td>Brindle</td>\n",
       "      <td>Medium</td>\n",
       "      <td>31.0</td>\n",
       "    </tr>\n",
       "    <tr>\n",
       "      <td>3</td>\n",
       "      <td>N</td>\n",
       "      <td>Mixed Breed (Non-Pitbull)</td>\n",
       "      <td>Puppy</td>\n",
       "      <td>Multicolor</td>\n",
       "      <td>Medium</td>\n",
       "      <td>47.0</td>\n",
       "    </tr>\n",
       "    <tr>\n",
       "      <td>4</td>\n",
       "      <td>N</td>\n",
       "      <td>Chihuahua</td>\n",
       "      <td>Adult</td>\n",
       "      <td>Tan</td>\n",
       "      <td>Small</td>\n",
       "      <td>83.0</td>\n",
       "    </tr>\n",
       "  </tbody>\n",
       "</table>\n",
       "</div>"
      ],
      "text/plain": [
       "  Heartworm Positive                      Breed Age Group When Rescued  \\\n",
       "0                  N                   Labrador                  Young   \n",
       "1                  N                  Dachshund                  Adult   \n",
       "2                  N                    Unknown                  Adult   \n",
       "3                  N  Mixed Breed (Non-Pitbull)                  Puppy   \n",
       "4                  N                  Chihuahua                  Adult   \n",
       "\n",
       "        Color    Size  Days in Rescue  \n",
       "0      Yellow  Medium            30.0  \n",
       "1         Tan   Small            11.0  \n",
       "2     Brindle  Medium            31.0  \n",
       "3  Multicolor  Medium            47.0  \n",
       "4         Tan   Small            83.0  "
      ]
     },
     "execution_count": 6,
     "metadata": {},
     "output_type": "execute_result"
    }
   ],
   "source": [
    "#Drop irrelevant variable columns\n",
    "del dogs['Name of Dog']\n",
    "del dogs['Sex']\n",
    "dogs.head(5)"
   ]
  },
  {
   "cell_type": "code",
   "execution_count": 7,
   "metadata": {},
   "outputs": [],
   "source": [
    "X = dogs[['Breed', 'Age Group When Rescued', 'Color', 'Size', 'Heartworm Positive']]"
   ]
  },
  {
   "cell_type": "code",
   "execution_count": 8,
   "metadata": {},
   "outputs": [],
   "source": [
    "Y = dogs['Days in Rescue']"
   ]
  },
  {
   "cell_type": "code",
   "execution_count": 9,
   "metadata": {},
   "outputs": [],
   "source": [
    "#Convert categorical variable into dummy/indicator variables \n",
    "#and drop one in each category\n",
    "X = pd.get_dummies(data=X, drop_first=True)"
   ]
  },
  {
   "cell_type": "code",
   "execution_count": 10,
   "metadata": {},
   "outputs": [
    {
     "name": "stdout",
     "output_type": "stream",
     "text": [
      "(2318, 118) (2318,)\n",
      "(580, 118) (580,)\n"
     ]
    }
   ],
   "source": [
    "#Split training and test sets\n",
    "from sklearn import linear_model\n",
    "from sklearn.model_selection import train_test_split\n",
    "X_train_validation, X_test, Y_train_validation, Y_test = train_test_split(X, Y, test_size = .20, random_state = 40)\n",
    "\n",
    "X_train, X_val, Y_train, Y_val = train_test_split(X_train_validation, Y_train_validation, test_size = .20, random_state = 40)\n",
    "\n",
    "\n",
    "print(X_train.shape, Y_train.shape)\n",
    "print(X_test.shape, Y_test.shape)"
   ]
  },
  {
   "cell_type": "code",
   "execution_count": 11,
   "metadata": {},
   "outputs": [
    {
     "data": {
      "text/plain": [
       "array([39.81692703, 38.25156998, 30.96862045, 31.03574343, 47.20311031])"
      ]
     },
     "execution_count": 11,
     "metadata": {},
     "output_type": "execute_result"
    }
   ],
   "source": [
    "#Fit model on training data\n",
    "lm = linear_model.LinearRegression()\n",
    "\n",
    "lm.fit(X_train, Y_train)\n",
    "predictions = lm.predict(X_test)\n",
    "model = lm.fit(X_train, Y_train)\n",
    "predictions[0:5]"
   ]
  },
  {
   "cell_type": "code",
   "execution_count": 12,
   "metadata": {},
   "outputs": [
    {
     "name": "stdout",
     "output_type": "stream",
     "text": [
      "-1.0791672743119865e+23\n"
     ]
    }
   ],
   "source": [
    "#Print model accuracy score\n",
    "print(model.score(X_test, Y_test))"
   ]
  },
  {
   "cell_type": "code",
   "execution_count": 11,
   "metadata": {},
   "outputs": [
    {
     "data": {
      "text/plain": [
       "Text(0, 0.5, 'Predictions')"
      ]
     },
     "execution_count": 11,
     "metadata": {},
     "output_type": "execute_result"
    },
    {
     "data": {
      "image/png": "[encoded data removed]",
      "text/plain": [
       "<Figure size 432x288 with 1 Axes>"
      ]
     },
     "metadata": {
      "needs_background": "light"
     },
     "output_type": "display_data"
    }
   ],
   "source": [
    "plt.scatter(Y_test, predictions)\n",
    "plt.xlabel('True Values')\n",
    "plt.ylabel('Predictions')"
   ]
  },
  {
   "cell_type": "code",
   "execution_count": null,
   "metadata": {},
   "outputs": [],
   "source": []
  }
 ],
 "metadata": {
  "kernelspec": {
   "display_name": "Python 3",
   "language": "python",
   "name": "python3"
  },
  "language_info": {
   "codemirror_mode": {
    "name": "ipython",
    "version": 3
   },
   "file_extension": ".py",
   "mimetype": "text/x-python",
   "name": "python",
   "nbconvert_exporter": "python",
   "pygments_lexer": "ipython3",
   "version": "3.7.4"
  }
 },
 "nbformat": 4,
 "nbformat_minor": 2
}
